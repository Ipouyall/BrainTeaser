{
 "cells": [
  {
   "cell_type": "code",
   "execution_count": null,
   "id": "4b4579b5",
   "metadata": {
    "execution": {
     "iopub.execute_input": "2024-01-24T21:06:11.979934Z",
     "iopub.status.busy": "2024-01-24T21:06:11.979563Z",
     "iopub.status.idle": "2024-01-24T21:06:55.905469Z",
     "shell.execute_reply": "2024-01-24T21:06:55.904009Z"
    },
    "executionInfo": {
     "elapsed": 20643,
     "status": "ok",
     "timestamp": 1706121190677,
     "user": {
      "displayName": "Pouya Sadeghi",
      "userId": "16446722027910419562"
     },
     "user_tz": -210
    },
    "id": "CnzzGtIOvsGs",
    "outputId": "52fcec25-5ba0-44b1-dfdf-2468b5ef2cc7",
    "papermill": {
     "duration": 43.941608,
     "end_time": "2024-01-24T21:06:55.908330",
     "exception": false,
     "start_time": "2024-01-24T21:06:11.966722",
     "status": "completed"
    },
    "tags": []
   },
   "outputs": [],
   "source": [
    "!pip install -q -U openai\n",
    "!pip install -q gdown"
   ]
  },
  {
   "cell_type": "code",
   "execution_count": null,
   "id": "e12cc1d4",
   "metadata": {
    "execution": {
     "iopub.execute_input": "2024-01-24T21:06:55.933097Z",
     "iopub.status.busy": "2024-01-24T21:06:55.932048Z",
     "iopub.status.idle": "2024-01-24T21:06:56.477087Z",
     "shell.execute_reply": "2024-01-24T21:06:56.476039Z"
    },
    "executionInfo": {
     "elapsed": 18,
     "status": "ok",
     "timestamp": 1706121190678,
     "user": {
      "displayName": "Pouya Sadeghi",
      "userId": "16446722027910419562"
     },
     "user_tz": -210
    },
    "id": "hehDmRAhvsGw",
    "papermill": {
     "duration": 0.56042,
     "end_time": "2024-01-24T21:06:56.479771",
     "exception": false,
     "start_time": "2024-01-24T21:06:55.919351",
     "status": "completed"
    },
    "tags": []
   },
   "outputs": [],
   "source": [
    "import os\n",
    "import pandas as pd\n",
    "from tqdm.auto import tqdm\n",
    "import json\n",
    "\n",
    "import datetime\n",
    "import time"
   ]
  },
  {
   "cell_type": "code",
   "execution_count": null,
   "id": "5571f170",
   "metadata": {
    "execution": {
     "iopub.execute_input": "2024-01-24T21:06:56.504350Z",
     "iopub.status.busy": "2024-01-24T21:06:56.503815Z",
     "iopub.status.idle": "2024-01-24T21:06:56.509155Z",
     "shell.execute_reply": "2024-01-24T21:06:56.508064Z"
    },
    "executionInfo": {
     "elapsed": 12,
     "status": "ok",
     "timestamp": 1706121190678,
     "user": {
      "displayName": "Pouya Sadeghi",
      "userId": "16446722027910419562"
     },
     "user_tz": -210
    },
    "id": "W5wF0jp-vsGx",
    "papermill": {
     "duration": 0.020216,
     "end_time": "2024-01-24T21:06:56.511281",
     "exception": false,
     "start_time": "2024-01-24T21:06:56.491065",
     "status": "completed"
    },
    "tags": []
   },
   "outputs": [],
   "source": [
    "GPT_MODEL = \"gpt-3.5-turbo-0125\"\n",
    "DATA_DIR = 'SE2024'\n",
    "INPUT_DATA_PATH  = f'{DATA_DIR}/test_split.csv'\n",
    "OUTPUT_DATA_PATH = f'{DATA_DIR}/inference.jsonl'\n",
    "BACKUP_OUTPUT_DATA_PATH = f'{DATA_DIR}/inference_backup.jsonl'"
   ]
  },
  {
   "cell_type": "markdown",
   "id": "bcc8e75c",
   "metadata": {
    "id": "Gws4a1OIvsGx",
    "papermill": {
     "duration": 0.010464,
     "end_time": "2024-01-24T21:06:56.532492",
     "exception": false,
     "start_time": "2024-01-24T21:06:56.522028",
     "status": "completed"
    },
    "tags": []
   },
   "source": [
    "# Get dataset"
   ]
  },
  {
   "cell_type": "code",
   "execution_count": null,
   "id": "b5621408",
   "metadata": {
    "execution": {
     "iopub.execute_input": "2024-01-24T21:06:56.556849Z",
     "iopub.status.busy": "2024-01-24T21:06:56.556154Z",
     "iopub.status.idle": "2024-01-24T21:06:56.561502Z",
     "shell.execute_reply": "2024-01-24T21:06:56.560717Z"
    },
    "executionInfo": {
     "elapsed": 13,
     "status": "ok",
     "timestamp": 1706121190679,
     "user": {
      "displayName": "Pouya Sadeghi",
      "userId": "16446722027910419562"
     },
     "user_tz": -210
    },
    "id": "G_Cxh5_ovsGz",
    "papermill": {
     "duration": 0.020005,
     "end_time": "2024-01-24T21:06:56.563681",
     "exception": false,
     "start_time": "2024-01-24T21:06:56.543676",
     "status": "completed"
    },
    "tags": []
   },
   "outputs": [],
   "source": [
    "def gdrive_download(file_id, file_name):\n",
    "    !gdown $file_id -O $file_name"
   ]
  },
  {
   "cell_type": "code",
   "execution_count": null,
   "id": "19b2cf44",
   "metadata": {
    "execution": {
     "iopub.execute_input": "2024-01-24T21:06:56.587434Z",
     "iopub.status.busy": "2024-01-24T21:06:56.587006Z",
     "iopub.status.idle": "2024-01-24T21:06:58.710569Z",
     "shell.execute_reply": "2024-01-24T21:06:58.709112Z"
    },
    "executionInfo": {
     "elapsed": 1270,
     "status": "ok",
     "timestamp": 1706121191937,
     "user": {
      "displayName": "Pouya Sadeghi",
      "userId": "16446722027910419562"
     },
     "user_tz": -210
    },
    "id": "Cz_NxeeFvsGz",
    "outputId": "73fb20e9-b316-4c79-de32-d5410e1ff1bd",
    "papermill": {
     "duration": 2.138669,
     "end_time": "2024-01-24T21:06:58.713353",
     "exception": false,
     "start_time": "2024-01-24T21:06:56.574684",
     "status": "completed"
    },
    "tags": []
   },
   "outputs": [],
   "source": [
    "if not os.path.exists(DATA_DIR):\n",
    "    os.mkdir(DATA_DIR)\n",
    "if not os.path.exists(INPUT_DATA_PATH):\n",
    "    gdrive_download('1JcpBjTXv2OfaG6uYcIJO-Yk69nT9uN8i', INPUT_DATA_PATH)"
   ]
  },
  {
   "cell_type": "code",
   "execution_count": null,
   "id": "7fee3036",
   "metadata": {
    "execution": {
     "iopub.execute_input": "2024-01-24T21:06:58.737715Z",
     "iopub.status.busy": "2024-01-24T21:06:58.737308Z",
     "iopub.status.idle": "2024-01-24T21:06:58.755614Z",
     "shell.execute_reply": "2024-01-24T21:06:58.754325Z"
    },
    "executionInfo": {
     "elapsed": 143,
     "status": "ok",
     "timestamp": 1706121191938,
     "user": {
      "displayName": "Pouya Sadeghi",
      "userId": "16446722027910419562"
     },
     "user_tz": -210
    },
    "id": "fQcZ5rjOvsG0",
    "papermill": {
     "duration": 0.033598,
     "end_time": "2024-01-24T21:06:58.758229",
     "exception": false,
     "start_time": "2024-01-24T21:06:58.724631",
     "status": "completed"
    },
    "tags": []
   },
   "outputs": [],
   "source": [
    "dataset = pd.read_csv(INPUT_DATA_PATH)"
   ]
  },
  {
   "cell_type": "markdown",
   "id": "e3603441",
   "metadata": {
    "id": "alJP8EDovsG0",
    "papermill": {
     "duration": 0.01086,
     "end_time": "2024-01-24T21:06:58.780467",
     "exception": false,
     "start_time": "2024-01-24T21:06:58.769607",
     "status": "completed"
    },
    "tags": []
   },
   "source": []
  },
  {
   "cell_type": "markdown",
   "id": "c4e9a859",
   "metadata": {
    "id": "TwJo3WzDvsG0",
    "papermill": {
     "duration": 0.010989,
     "end_time": "2024-01-24T21:06:58.802624",
     "exception": false,
     "start_time": "2024-01-24T21:06:58.791635",
     "status": "completed"
    },
    "tags": []
   },
   "source": [
    "# Chat Bots"
   ]
  },
  {
   "cell_type": "code",
   "execution_count": null,
   "id": "57d66702",
   "metadata": {
    "execution": {
     "iopub.execute_input": "2024-01-24T21:06:58.827646Z",
     "iopub.status.busy": "2024-01-24T21:06:58.826505Z",
     "iopub.status.idle": "2024-01-24T21:06:59.404400Z",
     "shell.execute_reply": "2024-01-24T21:06:59.403271Z"
    },
    "executionInfo": {
     "elapsed": 10,
     "status": "ok",
     "timestamp": 1706121982111,
     "user": {
      "displayName": "Pouya Sadeghi",
      "userId": "16446722027910419562"
     },
     "user_tz": -210
    },
    "id": "vdUDwZZHvsG0",
    "papermill": {
     "duration": 0.593308,
     "end_time": "2024-01-24T21:06:59.407165",
     "exception": false,
     "start_time": "2024-01-24T21:06:58.813857",
     "status": "completed"
    },
    "tags": []
   },
   "outputs": [],
   "source": [
    "from openai import OpenAI\n",
    "OPENAI_API_KEY = \"...\"\n",
    "\n",
    "class GPTBot:\n",
    "    def __init__(self, model):\n",
    "        print(\"Initiating GPT chat bot...\")\n",
    "\n",
    "        self.model = model\n",
    "        self.client = OpenAI(api_key=OPENAI_API_KEY)\n",
    "\n",
    "        print(\"GPT chat bot Initiated!\")\n",
    "\n",
    "    def get_completion(self, prompt):\n",
    "        for _ in range(20):\n",
    "            try:\n",
    "                return self.__get_completion_handler(prompt)\n",
    "            except Exception as e:\n",
    "                print(f\"GPT completion failed ::[{datetime.datetime.now()}]::\")\n",
    "                time.sleep(10)\n",
    "                print(f\"Trying GPT completion ::[{datetime.datetime.now()}]::\")\n",
    "        return \"Failed\"\n",
    "\n",
    "    def __get_completion_handler(self, prompt):\n",
    "        messages = [{\"role\": \"user\", \"content\": prompt}]\n",
    "        response = self.client.chat.completions.create(\n",
    "            model=self.model,\n",
    "            messages=messages,\n",
    "            temperature=0, # this is the degree of randomness of the model's output\n",
    "        )\n",
    "        return response.choices[0].message.content"
   ]
  },
  {
   "cell_type": "markdown",
   "id": "7504fd35",
   "metadata": {
    "id": "ZOn1CfT8BFQ4",
    "papermill": {
     "duration": 0.011432,
     "end_time": "2024-01-24T21:06:59.429946",
     "exception": false,
     "start_time": "2024-01-24T21:06:59.418514",
     "status": "completed"
    },
    "tags": []
   },
   "source": [
    "# Prompt Setup"
   ]
  },
  {
   "cell_type": "code",
   "execution_count": null,
   "id": "227d3e39",
   "metadata": {
    "execution": {
     "iopub.execute_input": "2024-01-24T21:06:59.455896Z",
     "iopub.status.busy": "2024-01-24T21:06:59.455099Z",
     "iopub.status.idle": "2024-01-24T21:06:59.463992Z",
     "shell.execute_reply": "2024-01-24T21:06:59.462766Z"
    },
    "executionInfo": {
     "elapsed": 532,
     "status": "ok",
     "timestamp": 1706121199364,
     "user": {
      "displayName": "Pouya Sadeghi",
      "userId": "16446722027910419562"
     },
     "user_tz": -210
    },
    "id": "DQENRkzmA0An",
    "papermill": {
     "duration": 0.025653,
     "end_time": "2024-01-24T21:06:59.466778",
     "exception": false,
     "start_time": "2024-01-24T21:06:59.441125",
     "status": "completed"
    },
    "tags": []
   },
   "outputs": [],
   "source": [
    "base_prompt = \"\"\"\\\n",
    "You are given a brief example riddle and four options to choose the answer amongst them. \\\n",
    "A riddle is a question or statement intentionally phrased so as to require ingenuity in ascertaining its answer or meaning. \\\n",
    "\n",
    "\n",
    "Riddle: \"{riddle}\"\n",
    "\n",
    "Options:\n",
    "Option 1: \"{option_1}\"\n",
    "Option 2: \"{option_2}\"\n",
    "Option 3: \"{option_3}\"\n",
    "Option 4: \"None of the above options are correct\"\n",
    "\n",
    "\n",
    "To solve the riddle, think step by step for each option and consider providing an informative explanation or just the option number. \\\n",
    "Feel free to think creatively and consider alternative perspectives!\\\n",
    "At the end, announce the option you think is the best one in the format: 'Option 1' or 'Option 2' or 'Option 3' or 'Option 4':\n",
    "\"\"\"\n",
    "\n",
    "def get_prompt(ds):\n",
    "    return base_prompt.format(\n",
    "            riddle=ds['QUESTION'],\n",
    "            option_1=ds['OPTION 1'],\n",
    "            option_2=ds['OPTION 2'],\n",
    "            option_3=ds['OPTION 3'],\n",
    "    )\n"
   ]
  },
  {
   "cell_type": "markdown",
   "id": "d75df243",
   "metadata": {
    "id": "cELCx7WkvsG2",
    "papermill": {
     "duration": 0.011211,
     "end_time": "2024-01-24T21:06:59.489468",
     "exception": false,
     "start_time": "2024-01-24T21:06:59.478257",
     "status": "completed"
    },
    "tags": []
   },
   "source": [
    "# Read/Write utils"
   ]
  },
  {
   "cell_type": "code",
   "execution_count": null,
   "id": "f14d4f56",
   "metadata": {
    "execution": {
     "iopub.execute_input": "2024-01-24T21:06:59.514484Z",
     "iopub.status.busy": "2024-01-24T21:06:59.513741Z",
     "iopub.status.idle": "2024-01-24T21:06:59.519695Z",
     "shell.execute_reply": "2024-01-24T21:06:59.518536Z"
    },
    "executionInfo": {
     "elapsed": 373,
     "status": "ok",
     "timestamp": 1706121209319,
     "user": {
      "displayName": "Pouya Sadeghi",
      "userId": "16446722027910419562"
     },
     "user_tz": -210
    },
    "id": "NGAjEp8TvsG2",
    "papermill": {
     "duration": 0.021269,
     "end_time": "2024-01-24T21:06:59.522048",
     "exception": false,
     "start_time": "2024-01-24T21:06:59.500779",
     "status": "completed"
    },
    "tags": []
   },
   "outputs": [],
   "source": [
    "def save_inference(data, address):\n",
    "    with open(address, 'w') as jsonl_file:\n",
    "        for item in data:\n",
    "            jsonl_file.write(json.dumps(item) + '\\n')"
   ]
  },
  {
   "cell_type": "code",
   "execution_count": null,
   "id": "434ea9ff",
   "metadata": {
    "execution": {
     "iopub.execute_input": "2024-01-24T21:06:59.547037Z",
     "iopub.status.busy": "2024-01-24T21:06:59.546650Z",
     "iopub.status.idle": "2024-01-24T21:06:59.551771Z",
     "shell.execute_reply": "2024-01-24T21:06:59.550951Z"
    },
    "executionInfo": {
     "elapsed": 3,
     "status": "ok",
     "timestamp": 1706121210743,
     "user": {
      "displayName": "Pouya Sadeghi",
      "userId": "16446722027910419562"
     },
     "user_tz": -210
    },
    "id": "F3Vlm980vsG2",
    "papermill": {
     "duration": 0.020282,
     "end_time": "2024-01-24T21:06:59.553811",
     "exception": false,
     "start_time": "2024-01-24T21:06:59.533529",
     "status": "completed"
    },
    "tags": []
   },
   "outputs": [],
   "source": [
    "def add_inference(data, address):\n",
    "    with open(address, 'a+') as jsonl_file:\n",
    "        for item in data:\n",
    "            jsonl_file.write(json.dumps(item) + '\\n')"
   ]
  },
  {
   "cell_type": "code",
   "execution_count": null,
   "id": "52fa7a66",
   "metadata": {
    "execution": {
     "iopub.execute_input": "2024-01-24T21:06:59.578530Z",
     "iopub.status.busy": "2024-01-24T21:06:59.578066Z",
     "iopub.status.idle": "2024-01-24T21:06:59.583944Z",
     "shell.execute_reply": "2024-01-24T21:06:59.582812Z"
    },
    "executionInfo": {
     "elapsed": 5,
     "status": "ok",
     "timestamp": 1706121212637,
     "user": {
      "displayName": "Pouya Sadeghi",
      "userId": "16446722027910419562"
     },
     "user_tz": -210
    },
    "id": "fwBRFr2SvsG3",
    "papermill": {
     "duration": 0.021053,
     "end_time": "2024-01-24T21:06:59.586271",
     "exception": false,
     "start_time": "2024-01-24T21:06:59.565218",
     "status": "completed"
    },
    "tags": []
   },
   "outputs": [],
   "source": [
    "def read_inference(address):\n",
    "    json_list = []\n",
    "    with open(address, 'r') as file:\n",
    "        for line in file:\n",
    "            data = json.loads(line)\n",
    "            json_list.append(data)\n",
    "    return json_list"
   ]
  },
  {
   "cell_type": "markdown",
   "id": "7bf6eb82",
   "metadata": {
    "id": "X4ukwdBnvsG3",
    "papermill": {
     "duration": 0.011247,
     "end_time": "2024-01-24T21:06:59.609152",
     "exception": false,
     "start_time": "2024-01-24T21:06:59.597905",
     "status": "completed"
    },
    "tags": []
   },
   "source": [
    "# Experiment"
   ]
  },
  {
   "cell_type": "code",
   "execution_count": null,
   "id": "1ceee9e2",
   "metadata": {
    "execution": {
     "iopub.execute_input": "2024-01-24T21:06:59.667128Z",
     "iopub.status.busy": "2024-01-24T21:06:59.666086Z",
     "iopub.status.idle": "2024-01-24T21:06:59.687044Z",
     "shell.execute_reply": "2024-01-24T21:06:59.685514Z"
    },
    "executionInfo": {
     "elapsed": 418,
     "status": "ok",
     "timestamp": 1706121986598,
     "user": {
      "displayName": "Pouya Sadeghi",
      "userId": "16446722027910419562"
     },
     "user_tz": -210
    },
    "id": "0mOPf_R-vsG4",
    "outputId": "fe93c24e-9b0d-48cf-bd1e-4d801f30b29e",
    "papermill": {
     "duration": 0.036675,
     "end_time": "2024-01-24T21:06:59.689761",
     "exception": false,
     "start_time": "2024-01-24T21:06:59.653086",
     "status": "completed"
    },
    "tags": []
   },
   "outputs": [],
   "source": [
    "chat_bot = GPTBot(model=GPT_MODEL)"
   ]
  },
  {
   "cell_type": "markdown",
   "id": "b752a71e",
   "metadata": {
    "id": "_SIfvNqMvsG4",
    "papermill": {
     "duration": 0.011498,
     "end_time": "2024-01-24T21:06:59.713365",
     "exception": false,
     "start_time": "2024-01-24T21:06:59.701867",
     "status": "completed"
    },
    "tags": []
   },
   "source": [
    "## Execute experiment"
   ]
  },
  {
   "cell_type": "code",
   "execution_count": null,
   "id": "cd8460c0",
   "metadata": {
    "execution": {
     "iopub.execute_input": "2024-01-24T21:06:59.738763Z",
     "iopub.status.busy": "2024-01-24T21:06:59.738317Z",
     "iopub.status.idle": "2024-01-24T21:48:43.354282Z",
     "shell.execute_reply": "2024-01-24T21:48:43.353084Z"
    },
    "executionInfo": {
     "elapsed": 37304,
     "status": "error",
     "timestamp": 1706122026211,
     "user": {
      "displayName": "Pouya Sadeghi",
      "userId": "16446722027910419562"
     },
     "user_tz": -210
    },
    "id": "hj3IUWBtvsG5",
    "outputId": "c0fd33eb-fe8e-47df-a222-ce72216bbfa5",
    "papermill": {
     "duration": 2503.642125,
     "end_time": "2024-01-24T21:48:43.367173",
     "exception": false,
     "start_time": "2024-01-24T21:06:59.725048",
     "status": "completed"
    },
    "tags": []
   },
   "outputs": [],
   "source": [
    "results = []\n",
    "itr = tqdm(dataset.iterrows(), total=len(dataset), desc=\"Processing\")\n",
    "\n",
    "for index, ds in itr:\n",
    "    prompt = get_prompt(ds)\n",
    "    result = chat_bot.get_completion(prompt)\n",
    "\n",
    "    data = {\n",
    "        \"question\": ds['QUESTION'],\n",
    "        'option 1': ds['OPTION 1'],\n",
    "        'option 2': ds['OPTION 2'],\n",
    "        'option 3': ds['OPTION 3'],\n",
    "        'option 4': ds['OPTION 4'],\n",
    "        'gpt': result\n",
    "    }\n",
    "    add_inference([data], OUTPUT_DATA_PATH)\n",
    "    results.append(data)\n",
    "    \n",
    "save_inference(results, BACKUP_OUTPUT_DATA_PATH)\n",
    "\n",
    "print(f\"Dumped {len(results)} records to {OUTPUT_DATA_PATH}\")"
   ]
  }
 ],
 "metadata": {
  "colab": {
   "provenance": []
  },
  "kaggle": {
   "accelerator": "none",
   "dataSources": [],
   "isGpuEnabled": false,
   "isInternetEnabled": true,
   "language": "python",
   "sourceType": "notebook"
  },
  "kernelspec": {
   "display_name": "Python 3 (ipykernel)",
   "language": "python",
   "name": "python3"
  },
  "language_info": {
   "codemirror_mode": {
    "name": "ipython",
    "version": 3
   },
   "file_extension": ".py",
   "mimetype": "text/x-python",
   "name": "python",
   "nbconvert_exporter": "python",
   "pygments_lexer": "ipython3",
   "version": "3.10.12"
  },
  "papermill": {
   "default_parameters": {},
   "duration": 2555.641456,
   "end_time": "2024-01-24T21:48:44.007931",
   "environment_variables": {},
   "exception": null,
   "input_path": "__notebook__.ipynb",
   "output_path": "__notebook__.ipynb",
   "parameters": {},
   "start_time": "2024-01-24T21:06:08.366475",
   "version": "2.4.0"
  },
  "widgets": {
   "application/vnd.jupyter.widget-state+json": {
    "state": {
     "0b2e38fbd8034bc3846ff763561d8e0e": {
      "model_module": "@jupyter-widgets/controls",
      "model_module_version": "1.5.0",
      "model_name": "ProgressStyleModel",
      "state": {
       "_model_module": "@jupyter-widgets/controls",
       "_model_module_version": "1.5.0",
       "_model_name": "ProgressStyleModel",
       "_view_count": null,
       "_view_module": "@jupyter-widgets/base",
       "_view_module_version": "1.2.0",
       "_view_name": "StyleView",
       "bar_color": null,
       "description_width": ""
      }
     },
     "0bbd99344d364899bc8df78e069a9bcc": {
      "model_module": "@jupyter-widgets/controls",
      "model_module_version": "1.5.0",
      "model_name": "DescriptionStyleModel",
      "state": {
       "_model_module": "@jupyter-widgets/controls",
       "_model_module_version": "1.5.0",
       "_model_name": "DescriptionStyleModel",
       "_view_count": null,
       "_view_module": "@jupyter-widgets/base",
       "_view_module_version": "1.2.0",
       "_view_name": "StyleView",
       "description_width": ""
      }
     },
     "4a90956206bc49b6a6a5479fe72e2e9e": {
      "model_module": "@jupyter-widgets/controls",
      "model_module_version": "1.5.0",
      "model_name": "HTMLModel",
      "state": {
       "_dom_classes": [],
       "_model_module": "@jupyter-widgets/controls",
       "_model_module_version": "1.5.0",
       "_model_name": "HTMLModel",
       "_view_count": null,
       "_view_module": "@jupyter-widgets/controls",
       "_view_module_version": "1.5.0",
       "_view_name": "HTMLView",
       "description": "",
       "description_tooltip": null,
       "layout": "IPY_MODEL_cd06fe9d0a014b668d775ae386002148",
       "placeholder": "​",
       "style": "IPY_MODEL_90752ff68a4a45b5800199c1b7c5c2b2",
       "value": " 120/120 [41:43&lt;00:00, 20.08s/it]"
      }
     },
     "4bdb73f2fcc44e7ab363da1d953bf61c": {
      "model_module": "@jupyter-widgets/base",
      "model_module_version": "1.2.0",
      "model_name": "LayoutModel",
      "state": {
       "_model_module": "@jupyter-widgets/base",
       "_model_module_version": "1.2.0",
       "_model_name": "LayoutModel",
       "_view_count": null,
       "_view_module": "@jupyter-widgets/base",
       "_view_module_version": "1.2.0",
       "_view_name": "LayoutView",
       "align_content": null,
       "align_items": null,
       "align_self": null,
       "border": null,
       "bottom": null,
       "display": null,
       "flex": null,
       "flex_flow": null,
       "grid_area": null,
       "grid_auto_columns": null,
       "grid_auto_flow": null,
       "grid_auto_rows": null,
       "grid_column": null,
       "grid_gap": null,
       "grid_row": null,
       "grid_template_areas": null,
       "grid_template_columns": null,
       "grid_template_rows": null,
       "height": null,
       "justify_content": null,
       "justify_items": null,
       "left": null,
       "margin": null,
       "max_height": null,
       "max_width": null,
       "min_height": null,
       "min_width": null,
       "object_fit": null,
       "object_position": null,
       "order": null,
       "overflow": null,
       "overflow_x": null,
       "overflow_y": null,
       "padding": null,
       "right": null,
       "top": null,
       "visibility": null,
       "width": null
      }
     },
     "65c78c0cfee841a3ba7536c171f82184": {
      "model_module": "@jupyter-widgets/base",
      "model_module_version": "1.2.0",
      "model_name": "LayoutModel",
      "state": {
       "_model_module": "@jupyter-widgets/base",
       "_model_module_version": "1.2.0",
       "_model_name": "LayoutModel",
       "_view_count": null,
       "_view_module": "@jupyter-widgets/base",
       "_view_module_version": "1.2.0",
       "_view_name": "LayoutView",
       "align_content": null,
       "align_items": null,
       "align_self": null,
       "border": null,
       "bottom": null,
       "display": null,
       "flex": null,
       "flex_flow": null,
       "grid_area": null,
       "grid_auto_columns": null,
       "grid_auto_flow": null,
       "grid_auto_rows": null,
       "grid_column": null,
       "grid_gap": null,
       "grid_row": null,
       "grid_template_areas": null,
       "grid_template_columns": null,
       "grid_template_rows": null,
       "height": null,
       "justify_content": null,
       "justify_items": null,
       "left": null,
       "margin": null,
       "max_height": null,
       "max_width": null,
       "min_height": null,
       "min_width": null,
       "object_fit": null,
       "object_position": null,
       "order": null,
       "overflow": null,
       "overflow_x": null,
       "overflow_y": null,
       "padding": null,
       "right": null,
       "top": null,
       "visibility": null,
       "width": null
      }
     },
     "84c42fb2bcac4345b64a6f8c13468044": {
      "model_module": "@jupyter-widgets/controls",
      "model_module_version": "1.5.0",
      "model_name": "HTMLModel",
      "state": {
       "_dom_classes": [],
       "_model_module": "@jupyter-widgets/controls",
       "_model_module_version": "1.5.0",
       "_model_name": "HTMLModel",
       "_view_count": null,
       "_view_module": "@jupyter-widgets/controls",
       "_view_module_version": "1.5.0",
       "_view_name": "HTMLView",
       "description": "",
       "description_tooltip": null,
       "layout": "IPY_MODEL_fc1a281e925745f19350c2026f7bf5ef",
       "placeholder": "​",
       "style": "IPY_MODEL_0bbd99344d364899bc8df78e069a9bcc",
       "value": "100%"
      }
     },
     "90752ff68a4a45b5800199c1b7c5c2b2": {
      "model_module": "@jupyter-widgets/controls",
      "model_module_version": "1.5.0",
      "model_name": "DescriptionStyleModel",
      "state": {
       "_model_module": "@jupyter-widgets/controls",
       "_model_module_version": "1.5.0",
       "_model_name": "DescriptionStyleModel",
       "_view_count": null,
       "_view_module": "@jupyter-widgets/base",
       "_view_module_version": "1.2.0",
       "_view_name": "StyleView",
       "description_width": ""
      }
     },
     "cd06fe9d0a014b668d775ae386002148": {
      "model_module": "@jupyter-widgets/base",
      "model_module_version": "1.2.0",
      "model_name": "LayoutModel",
      "state": {
       "_model_module": "@jupyter-widgets/base",
       "_model_module_version": "1.2.0",
       "_model_name": "LayoutModel",
       "_view_count": null,
       "_view_module": "@jupyter-widgets/base",
       "_view_module_version": "1.2.0",
       "_view_name": "LayoutView",
       "align_content": null,
       "align_items": null,
       "align_self": null,
       "border": null,
       "bottom": null,
       "display": null,
       "flex": null,
       "flex_flow": null,
       "grid_area": null,
       "grid_auto_columns": null,
       "grid_auto_flow": null,
       "grid_auto_rows": null,
       "grid_column": null,
       "grid_gap": null,
       "grid_row": null,
       "grid_template_areas": null,
       "grid_template_columns": null,
       "grid_template_rows": null,
       "height": null,
       "justify_content": null,
       "justify_items": null,
       "left": null,
       "margin": null,
       "max_height": null,
       "max_width": null,
       "min_height": null,
       "min_width": null,
       "object_fit": null,
       "object_position": null,
       "order": null,
       "overflow": null,
       "overflow_x": null,
       "overflow_y": null,
       "padding": null,
       "right": null,
       "top": null,
       "visibility": null,
       "width": null
      }
     },
     "fc1a281e925745f19350c2026f7bf5ef": {
      "model_module": "@jupyter-widgets/base",
      "model_module_version": "1.2.0",
      "model_name": "LayoutModel",
      "state": {
       "_model_module": "@jupyter-widgets/base",
       "_model_module_version": "1.2.0",
       "_model_name": "LayoutModel",
       "_view_count": null,
       "_view_module": "@jupyter-widgets/base",
       "_view_module_version": "1.2.0",
       "_view_name": "LayoutView",
       "align_content": null,
       "align_items": null,
       "align_self": null,
       "border": null,
       "bottom": null,
       "display": null,
       "flex": null,
       "flex_flow": null,
       "grid_area": null,
       "grid_auto_columns": null,
       "grid_auto_flow": null,
       "grid_auto_rows": null,
       "grid_column": null,
       "grid_gap": null,
       "grid_row": null,
       "grid_template_areas": null,
       "grid_template_columns": null,
       "grid_template_rows": null,
       "height": null,
       "justify_content": null,
       "justify_items": null,
       "left": null,
       "margin": null,
       "max_height": null,
       "max_width": null,
       "min_height": null,
       "min_width": null,
       "object_fit": null,
       "object_position": null,
       "order": null,
       "overflow": null,
       "overflow_x": null,
       "overflow_y": null,
       "padding": null,
       "right": null,
       "top": null,
       "visibility": null,
       "width": null
      }
     },
     "fc1e9029d95646f9915bd66170fac638": {
      "model_module": "@jupyter-widgets/controls",
      "model_module_version": "1.5.0",
      "model_name": "FloatProgressModel",
      "state": {
       "_dom_classes": [],
       "_model_module": "@jupyter-widgets/controls",
       "_model_module_version": "1.5.0",
       "_model_name": "FloatProgressModel",
       "_view_count": null,
       "_view_module": "@jupyter-widgets/controls",
       "_view_module_version": "1.5.0",
       "_view_name": "ProgressView",
       "bar_style": "success",
       "description": "",
       "description_tooltip": null,
       "layout": "IPY_MODEL_65c78c0cfee841a3ba7536c171f82184",
       "max": 120.0,
       "min": 0.0,
       "orientation": "horizontal",
       "style": "IPY_MODEL_0b2e38fbd8034bc3846ff763561d8e0e",
       "value": 120.0
      }
     },
     "fcae707a3ed84796b4f35179ec147180": {
      "model_module": "@jupyter-widgets/controls",
      "model_module_version": "1.5.0",
      "model_name": "HBoxModel",
      "state": {
       "_dom_classes": [],
       "_model_module": "@jupyter-widgets/controls",
       "_model_module_version": "1.5.0",
       "_model_name": "HBoxModel",
       "_view_count": null,
       "_view_module": "@jupyter-widgets/controls",
       "_view_module_version": "1.5.0",
       "_view_name": "HBoxView",
       "box_style": "",
       "children": [
        "IPY_MODEL_84c42fb2bcac4345b64a6f8c13468044",
        "IPY_MODEL_fc1e9029d95646f9915bd66170fac638",
        "IPY_MODEL_4a90956206bc49b6a6a5479fe72e2e9e"
       ],
       "layout": "IPY_MODEL_4bdb73f2fcc44e7ab363da1d953bf61c"
      }
     }
    },
    "version_major": 2,
    "version_minor": 0
   }
  }
 },
 "nbformat": 4,
 "nbformat_minor": 5
}
