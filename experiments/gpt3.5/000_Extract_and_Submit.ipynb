{
 "cells": [
  {
   "cell_type": "code",
   "execution_count": 27,
   "id": "initial_id",
   "metadata": {
    "collapsed": true,
    "ExecuteTime": {
     "end_time": "2024-02-18T17:39:33.328963Z",
     "start_time": "2024-02-18T17:39:33.286080Z"
    }
   },
   "outputs": [],
   "source": [
    "import os\n",
    "import pandas as pd\n",
    "import json\n",
    "import numpy as np\n"
   ]
  },
  {
   "cell_type": "code",
   "execution_count": 28,
   "outputs": [],
   "source": [
    "DATA_DIR = 'SE2024/BulkCoT-Simple'\n",
    "INPUT_DATA_PATH = f'{DATA_DIR}/inference.jsonl'\n",
    "EXTRACTED_TABLE_PATH = f'{DATA_DIR}/infer_table.csv'\n",
    "LABEL_KEY = \"gpt\""
   ],
   "metadata": {
    "collapsed": false,
    "ExecuteTime": {
     "end_time": "2024-02-18T17:39:33.347539Z",
     "start_time": "2024-02-18T17:39:33.291557Z"
    }
   },
   "id": "2efc4cef3e366825"
  },
  {
   "cell_type": "markdown",
   "source": [
    "# Extract"
   ],
   "metadata": {
    "collapsed": false
   },
   "id": "cabd7462ae5168b2"
  },
  {
   "cell_type": "markdown",
   "source": [
    "## Read data"
   ],
   "metadata": {
    "collapsed": false
   },
   "id": "977fa14a7be363bf"
  },
  {
   "cell_type": "code",
   "execution_count": 29,
   "outputs": [],
   "source": [
    "def read_inference(address):\n",
    "    json_list = []\n",
    "    with open(address, 'r') as file:\n",
    "        for line in file:\n",
    "            data = json.loads(line)\n",
    "            json_list.append(data)\n",
    "    return json_list"
   ],
   "metadata": {
    "collapsed": false,
    "ExecuteTime": {
     "end_time": "2024-02-18T17:39:33.348032Z",
     "start_time": "2024-02-18T17:39:33.298348Z"
    }
   },
   "id": "33e9ec172dffd5e9"
  },
  {
   "cell_type": "code",
   "execution_count": 30,
   "outputs": [
    {
     "name": "stdout",
     "output_type": "stream",
     "text": [
      "Number of loaded data: 120\n"
     ]
    }
   ],
   "source": [
    "inference_data =  read_inference(INPUT_DATA_PATH)\n",
    "\n",
    "print(f\"Number of loaded data: {len(inference_data)}\")"
   ],
   "metadata": {
    "collapsed": false,
    "ExecuteTime": {
     "end_time": "2024-02-18T17:39:33.348503Z",
     "start_time": "2024-02-18T17:39:33.303933Z"
    }
   },
   "id": "3317b9d6e6855878"
  },
  {
   "cell_type": "markdown",
   "source": [
    "## Extract option"
   ],
   "metadata": {
    "collapsed": false
   },
   "id": "ccb95f450998e190"
  },
  {
   "cell_type": "code",
   "execution_count": 31,
   "outputs": [],
   "source": [
    "def find_last_mentioned_option(text: str):\n",
    "    \"\"\"return option index as [0, 1, 2, 3]\"\"\"\n",
    "    option_key = [\"Option 1\", \"Option 2\", \"Option 3\", \"Option 4\"]\n",
    "    last_mentioned = [text.rfind(opt) for opt in option_key]\n",
    "    return (np.argmax(last_mentioned))"
   ],
   "metadata": {
    "collapsed": false,
    "ExecuteTime": {
     "end_time": "2024-02-18T17:39:33.348614Z",
     "start_time": "2024-02-18T17:39:33.309910Z"
    }
   },
   "id": "bdee52554bdf5483"
  },
  {
   "cell_type": "code",
   "execution_count": 32,
   "outputs": [],
   "source": [
    "data = []\n",
    "\n",
    "for ds in inference_data:\n",
    "    option_index = find_last_mentioned_option(ds[LABEL_KEY])\n",
    "    data.append({\n",
    "        \"question\": ds['question'],\n",
    "        \"0\": ds['option 1'],\n",
    "        \"1\": ds['option 2'],\n",
    "        \"2\": ds['option 3'],\n",
    "        \"3\": ds['option 4'],\n",
    "        LABEL_KEY: option_index,\n",
    "        LABEL_KEY+\"-raw\": ds[LABEL_KEY],\n",
    "    })\n",
    "    \n",
    "df = pd.DataFrame(data)\n",
    "df.to_csv(EXTRACTED_TABLE_PATH, index=False)"
   ],
   "metadata": {
    "collapsed": false,
    "ExecuteTime": {
     "end_time": "2024-02-18T17:39:33.349350Z",
     "start_time": "2024-02-18T17:39:33.318968Z"
    }
   },
   "id": "39d0ec3c5364992d"
  },
  {
   "cell_type": "markdown",
   "source": [
    "# Prepare Submission"
   ],
   "metadata": {
    "collapsed": false
   },
   "id": "f6b4d34e27cea651"
  },
  {
   "cell_type": "code",
   "execution_count": 33,
   "outputs": [],
   "source": [
    "submission_file = os.path.join(DATA_DIR, \"answer_sen.txt\")"
   ],
   "metadata": {
    "collapsed": false,
    "ExecuteTime": {
     "end_time": "2024-02-18T17:39:33.349515Z",
     "start_time": "2024-02-18T17:39:33.339899Z"
    }
   },
   "id": "6c29b1c764af7fa6"
  },
  {
   "cell_type": "code",
   "execution_count": 34,
   "outputs": [],
   "source": [
    "data = pd.read_csv(EXTRACTED_TABLE_PATH)"
   ],
   "metadata": {
    "collapsed": false,
    "ExecuteTime": {
     "end_time": "2024-02-18T17:39:33.358646Z",
     "start_time": "2024-02-18T17:39:33.349162Z"
    }
   },
   "id": "4468a75f3b5503a6"
  },
  {
   "cell_type": "code",
   "execution_count": 35,
   "outputs": [],
   "source": [
    "submission = [str(ds[LABEL_KEY]) for idx, ds in data.iterrows()]"
   ],
   "metadata": {
    "collapsed": false,
    "ExecuteTime": {
     "end_time": "2024-02-18T17:39:33.381681Z",
     "start_time": "2024-02-18T17:39:33.360821Z"
    }
   },
   "id": "c47a35c71e3f0e69"
  },
  {
   "cell_type": "code",
   "execution_count": 36,
   "outputs": [],
   "source": [
    "submission_content = '\\n'.join(submission)"
   ],
   "metadata": {
    "collapsed": false,
    "ExecuteTime": {
     "end_time": "2024-02-18T17:39:33.390369Z",
     "start_time": "2024-02-18T17:39:33.362737Z"
    }
   },
   "id": "b0dbf82666297192"
  },
  {
   "cell_type": "code",
   "execution_count": 37,
   "outputs": [],
   "source": [
    "with open(submission_file, 'w') as f:\n",
    "    f.write(submission_content)\n",
    "    \n",
    "with open(\"answer_sen.txt\", 'w') as f:\n",
    "    f.write(submission_content)"
   ],
   "metadata": {
    "collapsed": false,
    "ExecuteTime": {
     "end_time": "2024-02-18T17:39:33.390850Z",
     "start_time": "2024-02-18T17:39:33.366104Z"
    }
   },
   "id": "9e8a9d67065314f6"
  },
  {
   "cell_type": "code",
   "execution_count": 38,
   "outputs": [],
   "source": [
    "import zipfile\n",
    "\n",
    "zip_submission_path = submission_file[:submission_file.rfind('.')] + \".zip\"\n",
    "zip_submission_path = zip_submission_path.replace(\"answer_sen\", \"submission\")"
   ],
   "metadata": {
    "collapsed": false,
    "ExecuteTime": {
     "end_time": "2024-02-18T17:39:33.390951Z",
     "start_time": "2024-02-18T17:39:33.370283Z"
    }
   },
   "id": "8f48c73044a2d06e"
  },
  {
   "cell_type": "code",
   "execution_count": 39,
   "outputs": [],
   "source": [
    "zipfile.ZipFile(zip_submission_path, mode='w').write(\"answer_sen.txt\")"
   ],
   "metadata": {
    "collapsed": false,
    "ExecuteTime": {
     "end_time": "2024-02-18T17:39:33.391478Z",
     "start_time": "2024-02-18T17:39:33.372346Z"
    }
   },
   "id": "1b9eedb4aee0e97a"
  }
 ],
 "metadata": {
  "kernelspec": {
   "display_name": "Python 3",
   "language": "python",
   "name": "python3"
  },
  "language_info": {
   "codemirror_mode": {
    "name": "ipython",
    "version": 2
   },
   "file_extension": ".py",
   "mimetype": "text/x-python",
   "name": "python",
   "nbconvert_exporter": "python",
   "pygments_lexer": "ipython2",
   "version": "2.7.6"
  }
 },
 "nbformat": 4,
 "nbformat_minor": 5
}
