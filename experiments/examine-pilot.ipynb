{
 "cells": [
  {
   "cell_type": "code",
   "execution_count": 1,
   "metadata": {
    "ExecuteTime": {
     "end_time": "2023-10-14T10:05:20.598429Z",
     "start_time": "2023-10-14T10:05:20.392196Z"
    }
   },
   "outputs": [
    {
     "ename": "ImportError",
     "evalue": "cannot import name randbits",
     "output_type": "error",
     "traceback": [
      "\u001B[0;31m---------------------------------------------------------------------------\u001B[0m",
      "\u001B[0;31mImportError\u001B[0m                               Traceback (most recent call last)",
      "Cell \u001B[0;32mIn[1], line 1\u001B[0m\n\u001B[0;32m----> 1\u001B[0m \u001B[38;5;28;01mimport\u001B[39;00m \u001B[38;5;21;01mnumpy\u001B[39;00m \u001B[38;5;28;01mas\u001B[39;00m \u001B[38;5;21;01mnp\u001B[39;00m\n",
      "File \u001B[0;32m/Library/Frameworks/Python.framework/Versions/3.11/lib/python3.11/site-packages/numpy/__init__.py:151\u001B[0m\n\u001B[1;32m    149\u001B[0m \u001B[38;5;28;01mfrom\u001B[39;00m \u001B[38;5;21;01m.\u001B[39;00m \u001B[38;5;28;01mimport\u001B[39;00m fft\n\u001B[1;32m    150\u001B[0m \u001B[38;5;28;01mfrom\u001B[39;00m \u001B[38;5;21;01m.\u001B[39;00m \u001B[38;5;28;01mimport\u001B[39;00m polynomial\n\u001B[0;32m--> 151\u001B[0m \u001B[38;5;28;01mfrom\u001B[39;00m \u001B[38;5;21;01m.\u001B[39;00m \u001B[38;5;28;01mimport\u001B[39;00m random\n\u001B[1;32m    152\u001B[0m \u001B[38;5;28;01mfrom\u001B[39;00m \u001B[38;5;21;01m.\u001B[39;00m \u001B[38;5;28;01mimport\u001B[39;00m ctypeslib\n\u001B[1;32m    153\u001B[0m \u001B[38;5;28;01mfrom\u001B[39;00m \u001B[38;5;21;01m.\u001B[39;00m \u001B[38;5;28;01mimport\u001B[39;00m ma\n",
      "File \u001B[0;32m/Library/Frameworks/Python.framework/Versions/3.11/lib/python3.11/site-packages/numpy/random/__init__.py:180\u001B[0m\n\u001B[1;32m    126\u001B[0m __all__ \u001B[38;5;241m=\u001B[39m [\n\u001B[1;32m    127\u001B[0m     \u001B[38;5;124m'\u001B[39m\u001B[38;5;124mbeta\u001B[39m\u001B[38;5;124m'\u001B[39m,\n\u001B[1;32m    128\u001B[0m     \u001B[38;5;124m'\u001B[39m\u001B[38;5;124mbinomial\u001B[39m\u001B[38;5;124m'\u001B[39m,\n\u001B[0;32m   (...)\u001B[0m\n\u001B[1;32m    176\u001B[0m     \u001B[38;5;124m'\u001B[39m\u001B[38;5;124mzipf\u001B[39m\u001B[38;5;124m'\u001B[39m,\n\u001B[1;32m    177\u001B[0m ]\n\u001B[1;32m    179\u001B[0m \u001B[38;5;66;03m# add these for module-freeze analysis (like PyInstaller)\u001B[39;00m\n\u001B[0;32m--> 180\u001B[0m \u001B[38;5;28;01mfrom\u001B[39;00m \u001B[38;5;21;01m.\u001B[39;00m \u001B[38;5;28;01mimport\u001B[39;00m _pickle\n\u001B[1;32m    181\u001B[0m \u001B[38;5;28;01mfrom\u001B[39;00m \u001B[38;5;21;01m.\u001B[39;00m \u001B[38;5;28;01mimport\u001B[39;00m _common\n\u001B[1;32m    182\u001B[0m \u001B[38;5;28;01mfrom\u001B[39;00m \u001B[38;5;21;01m.\u001B[39;00m \u001B[38;5;28;01mimport\u001B[39;00m _bounded_integers\n",
      "File \u001B[0;32m/Library/Frameworks/Python.framework/Versions/3.11/lib/python3.11/site-packages/numpy/random/_pickle.py:1\u001B[0m\n\u001B[0;32m----> 1\u001B[0m \u001B[38;5;28;01mfrom\u001B[39;00m \u001B[38;5;21;01m.\u001B[39;00m\u001B[38;5;21;01mmtrand\u001B[39;00m \u001B[38;5;28;01mimport\u001B[39;00m RandomState\n\u001B[1;32m      2\u001B[0m \u001B[38;5;28;01mfrom\u001B[39;00m \u001B[38;5;21;01m.\u001B[39;00m\u001B[38;5;21;01m_philox\u001B[39;00m \u001B[38;5;28;01mimport\u001B[39;00m Philox\n\u001B[1;32m      3\u001B[0m \u001B[38;5;28;01mfrom\u001B[39;00m \u001B[38;5;21;01m.\u001B[39;00m\u001B[38;5;21;01m_pcg64\u001B[39;00m \u001B[38;5;28;01mimport\u001B[39;00m PCG64, PCG64DXSM\n",
      "File \u001B[0;32mmtrand.pyx:1\u001B[0m, in \u001B[0;36minit numpy.random.mtrand\u001B[0;34m()\u001B[0m\n",
      "File \u001B[0;32mbit_generator.pyx:38\u001B[0m, in \u001B[0;36minit numpy.random.bit_generator\u001B[0;34m()\u001B[0m\n",
      "\u001B[0;31mImportError\u001B[0m: cannot import name randbits"
     ]
    }
   ],
   "source": [
    "import numpy as np"
   ]
  },
  {
   "cell_type": "code",
   "execution_count": null,
   "outputs": [],
   "source": [
    "from dataclasses import dataclass\n",
    "from typing import List\n",
    "\n",
    "@dataclass()\n",
    "class SentencePuzzle:\n",
    "    id: str\n",
    "    question: str\n",
    "    answer: str\n",
    "    label: int\n",
    "    choices: List[str]\n",
    "    choice_order: List[int]\n",
    "\n",
    "    def __repr__(self):\n",
    "        if self.choice_order is not None:\n",
    "            choices = \"\\n\\t\".join(f\"\\\"{self.choices[self.choice_order.index(idx)]}\\\"\" for idx in range(len(self.choices)))\n",
    "        else:\n",
    "            choices = \"\\n\\t\".join(self.choices)\n",
    "        return f\"\"\"SentencePuzzle(\n",
    "id=\\\"{self.id}\\\",\n",
    "question=\\\"{self.question}\\\",\n",
    "answer=\\\"{self.answer if self.answer is not None else '<question mode>'}\\\",\n",
    "choices=[\n",
    "    {choices}\n",
    "])\"\"\"\n",
    "\n",
    "    def json(self):\n",
    "        return {\n",
    "            \"id\": self.id,\n",
    "            \"question\": self.question,\n",
    "            \"answer\": self.answer,\n",
    "            \"label\": self.label,\n",
    "            \"choices\": self.choices,\n",
    "            \"choice_order\": self.choice_order\n",
    "        }\n",
    "\n",
    "\n",
    "class SentencePuzzles:\n",
    "    def __init__(self, file_path):\n",
    "        self.file_path = file_path\n",
    "        self.puzzles: list[SentencePuzzle] = []\n",
    "        self.load()\n",
    "\n",
    "    def load(self):\n",
    "        print(f\"Loading sentence puzzles from {self.file_path}\")\n",
    "        sps = np.load(self.file_path, allow_pickle=True)\n",
    "        self.puzzles = [\n",
    "            SentencePuzzle(\n",
    "                id=sp['id'],\n",
    "                question=sp['question'],\n",
    "                answer=sp.get('answer', None),\n",
    "                label=sp.get('label', None),\n",
    "                choices=sp['choice_list'],\n",
    "                choice_order=sp.get('choice_order', None)\n",
    "            )\n",
    "            for sp in sps]\n",
    "        print(f\"Loaded {len(self.puzzles)} sentence puzzles\")\n",
    "\n"
   ],
   "metadata": {
    "collapsed": false
   }
  },
  {
   "cell_type": "code",
   "execution_count": null,
   "metadata": {},
   "outputs": [],
   "source": [
    "SP_PATH = \"../datasets/data/SP-val-nolabel.npy\"\n",
    "# SP_PATH = \"../datasets/data/SP-val-nolabel.npy\"\n",
    "# WP_PATH = \"../datasets/pilot/word_puzzle.npy\""
   ]
  },
  {
   "cell_type": "code",
   "execution_count": null,
   "metadata": {},
   "outputs": [],
   "source": [
    "sp = SentencePuzzles(SP_PATH)\n",
    "sp.puzzles[0]"
   ]
  },
  {
   "cell_type": "code",
   "execution_count": null,
   "outputs": [],
   "source": [
    "data = {\n",
    "    1: [],\n",
    "    2: [],\n",
    "    3: [],\n",
    "    4: [],\n",
    "}\n",
    "for p in sp.puzzles:\n",
    "    data[1].append(p.choices[0])\n",
    "    data[2].append(p.choices[1])\n",
    "    data[3].append(p.choices[2])\n",
    "    data[4].append(p.choices[3])\n",
    "\n",
    "import pandas as pd\n",
    "\n",
    "pd.DataFrame(data).to_csv(\"test.csv\", index=False)\n"
   ],
   "metadata": {
    "collapsed": false
   }
  },
  {
   "cell_type": "code",
   "execution_count": null,
   "outputs": [],
   "source": [
    "for p in sp.puzzles:\n",
    "    print(p.id)"
   ],
   "metadata": {
    "collapsed": false
   }
  },
  {
   "cell_type": "code",
   "execution_count": null,
   "outputs": [],
   "source": [
    "print(sp.puzzles[0])\n",
    "print(sp.puzzles[1])\n",
    "print(sp.puzzles[2])"
   ],
   "metadata": {
    "collapsed": false
   }
  },
  {
   "cell_type": "code",
   "execution_count": null,
   "outputs": [],
   "source": [
    "import pandas as pd\n",
    "\n",
    "sp_dict = {\n",
    "    \"original\": [],\n",
    "    \"semantic\": [],\n",
    "    \"context\": [],\n",
    "}\n",
    "for x in range(len(sp.puzzles)//3):\n",
    "    idx = x*3\n",
    "    sp_dict[\"original\"].append(sp.puzzles[idx].json())\n",
    "    sp_dict[\"semantic\"].append(sp.puzzles[idx+1].json())\n",
    "    sp_dict[\"context\"].append(sp.puzzles[idx+2].json())\n",
    "\n",
    "sp_df = pd.DataFrame(sp_dict)\n",
    "sp_df.to_csv(\"./sentence_puzzle_grouped.csv\", index=False)"
   ],
   "metadata": {
    "collapsed": false
   }
  },
  {
   "cell_type": "code",
   "execution_count": null,
   "outputs": [],
   "source": [
    "wp_ds = np.load(WP_PATH, allow_pickle=True)\n",
    "len(wp_ds)"
   ],
   "metadata": {
    "collapsed": false
   }
  },
  {
   "cell_type": "code",
   "execution_count": null,
   "outputs": [],
   "source": [
    "wp_ds[0]"
   ],
   "metadata": {
    "collapsed": false
   }
  }
 ],
 "metadata": {
  "kernelspec": {
   "display_name": "Python 3",
   "language": "python",
   "name": "python3"
  },
  "language_info": {
   "codemirror_mode": {
    "name": "ipython",
    "version": 3
   },
   "file_extension": ".py",
   "mimetype": "text/x-python",
   "name": "python",
   "nbconvert_exporter": "python",
   "pygments_lexer": "ipython3",
   "version": "3.10.9"
  },
  "orig_nbformat": 4
 },
 "nbformat": 4,
 "nbformat_minor": 2
}
