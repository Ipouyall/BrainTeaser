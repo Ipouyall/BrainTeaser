{
 "cells": [
  {
   "cell_type": "code",
   "execution_count": null,
   "metadata": {},
   "outputs": [],
   "source": [
    "import numpy as np"
   ]
  },
  {
   "cell_type": "code",
   "execution_count": null,
   "outputs": [],
   "source": [
    "from dataclasses import dataclass\n",
    "from typing import List\n",
    "\n",
    "@dataclass()\n",
    "class SentencePuzzle:\n",
    "    id: str\n",
    "    question: str\n",
    "    answer: str\n",
    "    label: int\n",
    "    choices: List[str]\n",
    "    choice_order: List[int]\n",
    "\n",
    "    def __repr__(self):\n",
    "        if self.choice_order is not None:\n",
    "            choices = \"\\n\\t\".join(f\"\\\"{self.choices[self.choice_order.index(idx)]}\\\"\" for idx in range(len(self.choices)))\n",
    "        else:\n",
    "            choices = \"\\n\\t\".join(self.choices)\n",
    "        return f\"\"\"SentencePuzzle(\n",
    "id=\\\"{self.id}\\\",\n",
    "question=\\\"{self.question}\\\",\n",
    "answer=\\\"{self.answer if self.answer is not None else '<question mode>'}\\\",\n",
    "choices=[\n",
    "    {choices}\n",
    "])\"\"\"\n",
    "\n",
    "    def json(self):\n",
    "        return {\n",
    "            \"id\": self.id,\n",
    "            \"question\": self.question,\n",
    "            \"answer\": self.answer,\n",
    "            \"label\": self.label,\n",
    "            \"choices\": self.choices,\n",
    "            \"choice_order\": self.choice_order\n",
    "        }\n",
    "\n",
    "\n",
    "class SentencePuzzles:\n",
    "    def __init__(self, file_path):\n",
    "        self.file_path = file_path\n",
    "        self.puzzles: list[SentencePuzzle] = []\n",
    "        self.load()\n",
    "\n",
    "    def load(self):\n",
    "        print(f\"Loading sentence puzzles from {self.file_path}\")\n",
    "        sps = np.load(self.file_path, allow_pickle=True)\n",
    "        self.puzzles = [\n",
    "            SentencePuzzle(\n",
    "                id=sp.get('id', None),\n",
    "                question=sp['question'],\n",
    "                answer=sp.get('answer', None),\n",
    "                label=sp.get('label', None),\n",
    "                choices=sp['choice_list'],\n",
    "                choice_order=sp.get('choice_order', None)\n",
    "            )\n",
    "            for sp in sps]\n",
    "        print(f\"Loaded {len(self.puzzles)} sentence puzzles\")\n",
    "\n"
   ],
   "metadata": {
    "collapsed": false
   }
  },
  {
   "cell_type": "code",
   "execution_count": null,
   "metadata": {},
   "outputs": [],
   "source": [
    "# SP_PATH = \"../datasets/data/SP-train.npy\"\n",
    "SP_PATH = \"../datasets/test/SP_new_test.npy\"\n",
    "# SP_PATH = \"../datasets/data/SP-val-nolabel.npy\"\n",
    "# WP_PATH = \"../datasets/pilot/word_puzzle.npy\""
   ]
  },
  {
   "cell_type": "code",
   "execution_count": null,
   "metadata": {},
   "outputs": [],
   "source": [
    "sp = SentencePuzzles(SP_PATH)\n",
    "sp.puzzles[0]"
   ]
  },
  {
   "cell_type": "code",
   "execution_count": null,
   "outputs": [],
   "source": [
    "data = {\n",
    "    1: [],\n",
    "    2: [],\n",
    "    3: [],\n",
    "    4: [],\n",
    "}\n",
    "for p in sp.puzzles:\n",
    "    data[1].append(p.choices[0])\n",
    "    data[2].append(p.choices[1])\n",
    "    data[3].append(p.choices[2])\n",
    "    data[4].append(p.choices[3])\n",
    "\n",
    "import pandas as pd\n",
    "\n",
    "pd.DataFrame(data).to_csv(\"test.csv\", index=False)\n"
   ],
   "metadata": {
    "collapsed": false
   }
  },
  {
   "cell_type": "code",
   "execution_count": null,
   "outputs": [],
   "source": [
    "for p in sp.puzzles:\n",
    "    print(p.id)"
   ],
   "metadata": {
    "collapsed": false
   }
  },
  {
   "cell_type": "code",
   "execution_count": null,
   "outputs": [],
   "source": [
    "print(sp.puzzles[0])\n",
    "print(sp.puzzles[1])\n",
    "print(sp.puzzles[2])"
   ],
   "metadata": {
    "collapsed": false
   }
  },
  {
   "cell_type": "code",
   "execution_count": null,
   "outputs": [],
   "source": [
    "import pandas as pd\n",
    "\n",
    "sp_dict = {\n",
    "    \"original\": [],\n",
    "    \"semantic\": [],\n",
    "    \"context\": [],\n",
    "}\n",
    "for x in range(len(sp.puzzles)//3):\n",
    "    idx = x*3\n",
    "    sp_dict[\"original\"].append(sp.puzzles[idx].json())\n",
    "    sp_dict[\"semantic\"].append(sp.puzzles[idx+1].json())\n",
    "    sp_dict[\"context\"].append(sp.puzzles[idx+2].json())\n",
    "\n",
    "sp_df = pd.DataFrame(sp_dict)\n",
    "sp_df.to_csv(\"./sentence_puzzle_grouped.csv\", index=False)"
   ],
   "metadata": {
    "collapsed": false
   }
  },
  {
   "cell_type": "code",
   "execution_count": null,
   "outputs": [],
   "source": [
    "def test_data_to_csv(sample: SentencePuzzle):\n",
    "    return {\"QUESTION\": sample.question, \"OPTION 1\": sample.choices[0], \"OPTION 2\": sample.choices[1], \"OPTION 3\": sample.choices[2], \"OPTION 4\": sample.choices[3]}"
   ],
   "metadata": {
    "collapsed": false
   }
  },
  {
   "cell_type": "code",
   "execution_count": null,
   "outputs": [],
   "source": [
    "datas = []\n",
    "for sp in sp.puzzles:\n",
    "    datas.append(test_data_to_csv(sp))\n",
    "tdf = pd.DataFrame(datas)\n",
    "tdf.to_csv(\"./test_data.csv\", index=False)"
   ],
   "metadata": {
    "collapsed": false
   }
  },
  {
   "cell_type": "code",
   "execution_count": null,
   "outputs": [],
   "source": [
    "wp_ds = np.load(WP_PATH, allow_pickle=True)\n",
    "len(wp_ds)"
   ],
   "metadata": {
    "collapsed": false
   }
  },
  {
   "cell_type": "code",
   "execution_count": null,
   "outputs": [],
   "source": [
    "wp_ds[0]"
   ],
   "metadata": {
    "collapsed": false
   }
  },
  {
   "cell_type": "code",
   "execution_count": null,
   "outputs": [],
   "source": [
    "import gym\n",
    "\n",
    "env = gym.make('Taxi-v3')\n",
    "state, _ = env.reset(seed=42)\n",
    "state"
   ],
   "metadata": {
    "collapsed": false
   }
  },
  {
   "cell_type": "code",
   "execution_count": null,
   "outputs": [],
   "source": [
    "env.__class__.__name__"
   ],
   "metadata": {
    "collapsed": false
   }
  },
  {
   "cell_type": "code",
   "execution_count": null,
   "outputs": [],
   "source": [
    "env.decode(state)"
   ],
   "metadata": {
    "collapsed": false
   }
  },
  {
   "cell_type": "code",
   "execution_count": null,
   "outputs": [],
   "source": [],
   "metadata": {
    "collapsed": false
   }
  }
 ],
 "metadata": {
  "kernelspec": {
   "display_name": "Python 3",
   "language": "python",
   "name": "python3"
  },
  "language_info": {
   "codemirror_mode": {
    "name": "ipython",
    "version": 3
   },
   "file_extension": ".py",
   "mimetype": "text/x-python",
   "name": "python",
   "nbconvert_exporter": "python",
   "pygments_lexer": "ipython3",
   "version": "3.10.9"
  },
  "orig_nbformat": 4
 },
 "nbformat": 4,
 "nbformat_minor": 2
}
