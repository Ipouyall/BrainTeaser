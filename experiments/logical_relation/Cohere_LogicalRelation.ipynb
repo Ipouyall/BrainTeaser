{
 "cells": [
  {
   "cell_type": "code",
   "execution_count": null,
   "metadata": {
    "id": "EqdDiovEBRLw",
    "colab": {
     "base_uri": "https://localhost:8080/"
    },
    "outputId": "1a07ef0e-764d-49d1-e643-bbae4f170d14"
   },
   "outputs": [],
   "source": [
    "!pip install -q cohere gdown tqdm"
   ]
  },
  {
   "cell_type": "code",
   "execution_count": null,
   "metadata": {
    "id": "Hf-3hMa7BOkU"
   },
   "outputs": [],
   "source": [
    "from cohere import Client, CohereAPIError\n",
    "import os\n",
    "import pandas as pd\n",
    "from tqdm.notebook import tqdm\n",
    "\n",
    "api_key = '...'\n",
    "client = Client(api_key)"
   ]
  },
  {
   "cell_type": "code",
   "execution_count": null,
   "outputs": [],
   "source": [
    "RAW_DATA_PATH = 'SE2024/train_gpt-4_raw_RAG.csv'\n",
    "RESULT_CSV_PATH = \"SE2024/train_logical_relation.csv\"\n"
   ],
   "metadata": {
    "collapsed": false
   }
  },
  {
   "cell_type": "markdown",
   "source": [
    "# Cohere api limit safety"
   ],
   "metadata": {
    "collapsed": false
   }
  },
  {
   "cell_type": "code",
   "execution_count": null,
   "outputs": [],
   "source": [
    "from time import sleep\n",
    "\n",
    "class SafeCohere:\n",
    "    def __init__(self, client):\n",
    "        self.co = client\n",
    "    \n",
    "    def chat(self, prompt, **kw_args):\n",
    "        while True:\n",
    "            try:\n",
    "                return self.co.chat(\n",
    "                    prompt,\n",
    "                    **kw_args\n",
    "                )\n",
    "            except CohereAPIError as e:\n",
    "                print(f\"Rate limit reached, waiting for 60 seconds: {e}\")\n",
    "                sleep(60)\n",
    "                \n",
    "co = SafeCohere(client)"
   ],
   "metadata": {
    "collapsed": false
   }
  },
  {
   "cell_type": "markdown",
   "source": [
    "# Prepare data"
   ],
   "metadata": {
    "collapsed": false
   }
  },
  {
   "cell_type": "code",
   "execution_count": null,
   "outputs": [],
   "source": [
    "os.makedirs(\"./SE2024\", exist_ok=True)"
   ],
   "metadata": {
    "collapsed": false
   }
  },
  {
   "cell_type": "code",
   "execution_count": null,
   "outputs": [],
   "source": [
    "if os.path.exists(RAW_DATA_PATH):\n",
    "    print('Data file already exists')\n",
    "else:\n",
    "    print(\"Data doesn't exist, start download from the google drive...\")\n",
    "    !gdown 15VK8MaOEg2gF8iwmI4bummXt8whZF9Bq -O $RAW_DATA_PATH"
   ],
   "metadata": {
    "collapsed": false
   }
  },
  {
   "cell_type": "code",
   "execution_count": null,
   "outputs": [],
   "source": [
    "data = pd.read_csv(RAW_DATA_PATH)"
   ],
   "metadata": {
    "collapsed": false
   }
  },
  {
   "cell_type": "markdown",
   "source": [
    "# Prepare prompt template"
   ],
   "metadata": {
    "collapsed": false
   }
  },
  {
   "cell_type": "code",
   "execution_count": null,
   "metadata": {
    "id": "douHOfl0JJq-"
   },
   "outputs": [],
   "source": [
    "prompt_template = \"\"\"\\\n",
    "<|Instruction|>\n",
    "I would provide you a Riddle and its Answer. I would Also provide you a hypothesis about the answer. \\\n",
    "Your task is to give me in short that what is the logical path from question to its answer.\n",
    "Common tricks to be able to answer this riddles:\n",
    "    1. Riddles often employ misdirection, leading you away from the actual solution.\n",
    "    2. They include elements with double meanings, requiring a keen eye for words with dual interpretations.\n",
    "    3. Metaphorical wordplay adds another layer, urging you to decipher figurative language.\n",
    "    4. Look out for exaggeration, as riddles may present overly dramatic details to divert your attention.\n",
    "    5. Common phrases and sayings may hide within the puzzle, demanding familiarity.\n",
    "    6. Associations and irony play a crucial role, introducing unexpected connections.\n",
    "    7. Numerical puzzles can also be part of the mystery, requiring you to decode their significance.\n",
    "    8. Elemental imagery, drawn from nature, might hold key descriptors.\n",
    "    9. Rhyming and sound clues can add a poetic dimension.\n",
    "    10. Avoid sexism ans sex cliche, for example, gender bias for jobs, based on their positions or their outcome.\n",
    "    11. make sure to put the most logical solution first.\n",
    "Please keep your response as short as you can.\n",
    "\n",
    "<|Example|>\n",
    "Riddle: \"Mr. and Mrs. Mustard have six daughters and each daughter has one brother. But there are only 9 people in the family, how is that possible?\"\n",
    "Answer: \"Each daughter shares the same brother.\"\n",
    "Hypothesis: \"The question states that Mr. and Mrs. Mustard have six daughters and each daughter has one brother. This might initially lead one to think that there are 6 brothers, one for each daughter, which would total 14 people in the family (2 parents, 6 daughters, 6 brothers). However, the question also specifies that there are only 9 people in the family. The only way this is possible is if each daughter shares the same brother. This means there is only one brother who is the sibling to all six daughters. Therefore, the total number of people in the family is 9: Mr. and Mrs. Mustard, their six daughters, and one son.\"\n",
    "Logical Relation: \"The only way this is possible is if each daughter shares the same brother. This means there is only one brother who is the sibling to all six daughter\"\n",
    "\n",
    "<|Problem|>\n",
    "Riddle: \"{riddle}\"\n",
    "Answer: \"{answer}\"\n",
    "Hypothesis: \"{thesis}\"\n",
    "Logical Relation:\n",
    "\"\"\"\n"
   ]
  },
  {
   "cell_type": "code",
   "source": [
    "riddle = \"Two girls have the same parents and were born at the same hour of the same day of the same month, but they are not twins. How can this be possible?\"\n",
    "answer = \"They were not born in the same year.\"\n",
    "thesis = \"\"\"The question states that two girls have the same parents and were born at the same hour of the same day of the same month, but they are not twins. This might seem contradictory at first, as we usually associate the birth of two siblings at the same time to be twins. However, the question does not specify that the girls were born in the same year. Therefore, the girls could have been born exactly one year (or multiple years) apart, on the same day, at the same hour. This would make them not twins, but rather siblings with coincidentally synchronized birth times. Hence, the answer option \"They were not born in the same year\" is a plausible explanation to the question.\"\"\"\n"
   ],
   "metadata": {
    "id": "7gnr9NpVps8k"
   },
   "execution_count": null,
   "outputs": []
  },
  {
   "cell_type": "code",
   "source": [
    "prompt = prompt_template.format(riddle=riddle, answer=answer, thesis=thesis)\n",
    "print(prompt)"
   ],
   "metadata": {
    "colab": {
     "base_uri": "https://localhost:8080/"
    },
    "id": "a0WCwuSYqIix",
    "outputId": "36224ba4-db4e-41f7-e986-b275776788d9"
   },
   "execution_count": null,
   "outputs": []
  },
  {
   "cell_type": "markdown",
   "source": [
    "# Generate logical relation"
   ],
   "metadata": {
    "collapsed": false
   }
  },
  {
   "cell_type": "code",
   "execution_count": null,
   "outputs": [],
   "source": [
    "def fix_start_end_generated(text:str):\n",
    "  while text[0] in [\"'\", '\"']:\n",
    "    text = text[1:]\n",
    "  while text[-1] in [\"'\", '\"']:\n",
    "    text = text[:-1]\n",
    "  return text\n"
   ],
   "metadata": {
    "collapsed": false
   }
  },
  {
   "cell_type": "code",
   "execution_count": null,
   "outputs": [],
   "source": [
    "logical_revised = []\n",
    "\n",
    "itr = tqdm(data.iterrows(), total=len(data))\n",
    "for i, row in itr:\n",
    "    id = row['ID']\n",
    "    riddle = row['QUESTION']\n",
    "    answer = row['ANSWER']\n",
    "    thesis = row['HYPOTHESIS']\n",
    "    prompt = prompt_template.format(riddle=riddle, answer=answer, thesis=thesis)\n",
    "    prediction = co.chat(\n",
    "        prompt,\n",
    "        model='command',\n",
    "        temperature=0.0,\n",
    "    )\n",
    "    logical_relation = fix_start_end_generated(prediction.text)\n",
    "    data = {\n",
    "        \"id\": id,\n",
    "        \"question\": riddle,\n",
    "        \"answer\": answer,\n",
    "        \"explanation\": logical_relation\n",
    "    }\n",
    "    logical_revised.append(data)"
   ],
   "metadata": {
    "collapsed": false
   }
  },
  {
   "cell_type": "markdown",
   "source": [
    "# Save result"
   ],
   "metadata": {
    "collapsed": false
   }
  },
  {
   "cell_type": "code",
   "execution_count": null,
   "outputs": [],
   "source": [
    "result_df = pd.DataFrame(logical_revised)\n",
    "result_df.to_csv(RESULT_CSV_PATH, index=False)"
   ],
   "metadata": {
    "collapsed": false
   }
  }
 ],
 "metadata": {
  "colab": {
   "provenance": []
  },
  "kernelspec": {
   "display_name": "Python 3 (ipykernel)",
   "language": "python",
   "name": "python3"
  },
  "language_info": {
   "codemirror_mode": {
    "name": "ipython",
    "version": 3
   },
   "file_extension": ".py",
   "mimetype": "text/x-python",
   "name": "python",
   "nbconvert_exporter": "python",
   "pygments_lexer": "ipython3",
   "version": "3.9.7"
  }
 },
 "nbformat": 4,
 "nbformat_minor": 0
}
