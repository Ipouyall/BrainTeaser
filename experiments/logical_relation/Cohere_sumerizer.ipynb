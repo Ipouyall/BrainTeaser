{
 "cells": [
  {
   "cell_type": "code",
   "execution_count": null,
   "metadata": {
    "id": "EqdDiovEBRLw",
    "colab": {
     "base_uri": "https://localhost:8080/"
    },
    "outputId": "1a07ef0e-764d-49d1-e643-bbae4f170d14"
   },
   "outputs": [],
   "source": [
    "!pip install -q cohere gdown tqdm"
   ]
  },
  {
   "cell_type": "code",
   "execution_count": null,
   "metadata": {
    "id": "Hf-3hMa7BOkU"
   },
   "outputs": [],
   "source": [
    "from cohere import Client, CohereAPIError\n",
    "import os\n",
    "import pandas as pd\n",
    "from tqdm.notebook import tqdm\n",
    "\n",
    "api_key = '...'\n",
    "client = Client(api_key)"
   ]
  },
  {
   "cell_type": "code",
   "execution_count": null,
   "outputs": [],
   "source": [
    "RAW_DATA_PATH = 'SE2024/train_gpt-4_raw_RAG.csv'\n",
    "RESULT_CSV_PATH = \"SE2024/train_gpt-4_RAG_summarized.csv\"\n"
   ],
   "metadata": {
    "collapsed": false
   }
  },
  {
   "cell_type": "markdown",
   "source": [
    "# Cohere api limit safety"
   ],
   "metadata": {
    "collapsed": false
   }
  },
  {
   "cell_type": "code",
   "execution_count": null,
   "outputs": [],
   "source": [
    "from time import sleep\n",
    "\n",
    "class SafeCohere:\n",
    "    def __init__(self, client):\n",
    "        self.co = client\n",
    "    \n",
    "    def chat(self, prompt, **kw_args):\n",
    "        while True:\n",
    "            try:\n",
    "                return self.co.chat(\n",
    "                    prompt,\n",
    "                    **kw_args\n",
    "                )\n",
    "            except CohereAPIError as e:\n",
    "                print(f\"Rate limit reached, waiting for 60 seconds: {e}\")\n",
    "                sleep(60)\n",
    "    def summarize(self, text, **kw_args):\n",
    "        while True:\n",
    "            try:\n",
    "                return self.co.summarize(\n",
    "                    text,\n",
    "                    **kw_args\n",
    "                )\n",
    "            except CohereAPIError as e:\n",
    "                print(f\"Rate limit reached, waiting for 60 seconds: {e}\")\n",
    "                sleep(60)\n",
    "                \n",
    "co = SafeCohere(client)"
   ],
   "metadata": {
    "collapsed": false
   }
  },
  {
   "cell_type": "markdown",
   "source": [
    "# Prepare data"
   ],
   "metadata": {
    "collapsed": false
   }
  },
  {
   "cell_type": "code",
   "execution_count": null,
   "outputs": [],
   "source": [
    "os.makedirs(\"./SE2024\", exist_ok=True)"
   ],
   "metadata": {
    "collapsed": false
   }
  },
  {
   "cell_type": "code",
   "execution_count": null,
   "outputs": [],
   "source": [
    "if os.path.exists(RAW_DATA_PATH):\n",
    "    print('Data file already exists')\n",
    "else:\n",
    "    print(\"Data doesn't exist, start download from the google drive...\")\n",
    "    !gdown 15VK8MaOEg2gF8iwmI4bummXt8whZF9Bq -O $RAW_DATA_PATH"
   ],
   "metadata": {
    "collapsed": false
   }
  },
  {
   "cell_type": "code",
   "execution_count": null,
   "outputs": [],
   "source": [
    "data = pd.read_csv(RAW_DATA_PATH)"
   ],
   "metadata": {
    "collapsed": false
   }
  },
  {
   "cell_type": "markdown",
   "source": [
    "# Generate logical relation summary"
   ],
   "metadata": {
    "collapsed": false
   }
  },
  {
   "cell_type": "code",
   "execution_count": null,
   "outputs": [],
   "source": [
    "data[\"in summary\"] = None\n",
    "\n",
    "itr = tqdm(data.iterrows(), total=len(data))\n",
    "for i, row in itr:\n",
    "    \n",
    "    prediction = co.summarize(\n",
    "        row['HYPOTHESIS'],\n",
    "        model='command',\n",
    "        length='short',\n",
    "        extractiveness='high',\n",
    "        temperature=0.0,\n",
    "    ).summary\n",
    "    data.loc[i, \"in summary\"] = prediction\n",
    "    "
   ],
   "metadata": {
    "collapsed": false
   }
  },
  {
   "cell_type": "markdown",
   "source": [
    "# Save result"
   ],
   "metadata": {
    "collapsed": false
   }
  },
  {
   "cell_type": "code",
   "execution_count": null,
   "outputs": [],
   "source": [
    "data.to_csv(RESULT_CSV_PATH, index=False)"
   ],
   "metadata": {
    "collapsed": false
   }
  }
 ],
 "metadata": {
  "colab": {
   "provenance": []
  },
  "kernelspec": {
   "display_name": "Python 3 (ipykernel)",
   "language": "python",
   "name": "python3"
  },
  "language_info": {
   "codemirror_mode": {
    "name": "ipython",
    "version": 3
   },
   "file_extension": ".py",
   "mimetype": "text/x-python",
   "name": "python",
   "nbconvert_exporter": "python",
   "pygments_lexer": "ipython3",
   "version": "3.9.7"
  }
 },
 "nbformat": 4,
 "nbformat_minor": 0
}
