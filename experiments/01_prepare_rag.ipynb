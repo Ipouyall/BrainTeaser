{
 "cells": [
  {
   "cell_type": "code",
   "execution_count": 28,
   "id": "initial_id",
   "metadata": {
    "collapsed": true,
    "ExecuteTime": {
     "end_time": "2024-01-11T21:15:51.101413Z",
     "start_time": "2024-01-11T21:15:51.088362Z"
    }
   },
   "outputs": [],
   "source": [
    "import pandas as pd"
   ]
  },
  {
   "cell_type": "code",
   "execution_count": null,
   "outputs": [],
   "source": [],
   "metadata": {
    "collapsed": false
   },
   "id": "d3c513585cf8f9bb"
  },
  {
   "cell_type": "code",
   "execution_count": 29,
   "outputs": [],
   "source": [
    "DATA_PATH = \"./SentencePuzzleKD/KD_train_gpt-4_revised.csv\""
   ],
   "metadata": {
    "collapsed": false,
    "ExecuteTime": {
     "end_time": "2024-01-11T21:15:51.101632Z",
     "start_time": "2024-01-11T21:15:51.092405Z"
    }
   },
   "id": "21e845ff94a2b642"
  },
  {
   "cell_type": "code",
   "execution_count": 30,
   "outputs": [],
   "source": [
    "df = pd.read_csv(DATA_PATH)"
   ],
   "metadata": {
    "collapsed": false,
    "ExecuteTime": {
     "end_time": "2024-01-11T21:15:51.117464Z",
     "start_time": "2024-01-11T21:15:51.094544Z"
    }
   },
   "id": "f3f3e6d4da5c0cd1"
  },
  {
   "cell_type": "code",
   "execution_count": 31,
   "outputs": [
    {
     "name": "stdout",
     "output_type": "stream",
     "text": [
      "<class 'pandas.core.frame.DataFrame'>\n",
      "RangeIndex: 507 entries, 0 to 506\n",
      "Data columns (total 13 columns):\n",
      " #   Column        Non-Null Count  Dtype \n",
      "---  ------        --------------  ----- \n",
      " 0   id            507 non-null    object\n",
      " 1   question      507 non-null    object\n",
      " 2   option_1      507 non-null    object\n",
      " 3   hypothesis_1  507 non-null    object\n",
      " 4   option_2      507 non-null    object\n",
      " 5   hypothesis_2  507 non-null    object\n",
      " 6   option_3      507 non-null    object\n",
      " 7   hypothesis_3  507 non-null    object\n",
      " 8   option_4      507 non-null    object\n",
      " 9   answer        507 non-null    object\n",
      " 10  label         507 non-null    int64 \n",
      " 11  STATUS        505 non-null    object\n",
      " 12  Hard          53 non-null     object\n",
      "dtypes: int64(1), object(12)\n",
      "memory usage: 51.6+ KB\n"
     ]
    }
   ],
   "source": [
    "df.info()"
   ],
   "metadata": {
    "collapsed": false,
    "ExecuteTime": {
     "end_time": "2024-01-11T21:15:51.123255Z",
     "start_time": "2024-01-11T21:15:51.115906Z"
    }
   },
   "id": "ab88c32601e25c8e"
  },
  {
   "cell_type": "code",
   "execution_count": 32,
   "outputs": [],
   "source": [
    "def annotate_sample(id, q, a, h):\n",
    "    return {\"id\": id, \"question\": q, \"answer\": a, \"hypothesis\": h}"
   ],
   "metadata": {
    "collapsed": false,
    "ExecuteTime": {
     "end_time": "2024-01-11T21:15:51.123646Z",
     "start_time": "2024-01-11T21:15:51.121564Z"
    }
   },
   "id": "a4ed3a62dbb26f12"
  },
  {
   "cell_type": "code",
   "execution_count": 33,
   "outputs": [],
   "source": [
    "def annotate_samples(df):\n",
    "    samples = []\n",
    "    for i, row in df.iterrows():\n",
    "        answer_key = row[\"label\"]\n",
    "        option_key = f\"option_{answer_key}\"\n",
    "        hypo_key = f\"hypothesis_{answer_key}\"\n",
    "        if row[option_key] != row[\"answer\"]:\n",
    "            print(\"Error: option_key and answer_key do not match\")\n",
    "            return \n",
    "        id = row[\"id\"]\n",
    "        question = row[\"question\"]\n",
    "        answer = row[option_key]\n",
    "        if answer_key == 4:\n",
    "            hypothesis = f\"The answer to the question is not in one of the options: [{row['option_1']}, {row['option_2']}, {row['option_3']}]\"\n",
    "        else:\n",
    "            hypothesis = row[hypo_key]\n",
    "        samples.append(annotate_sample(id, question, answer, hypothesis))\n",
    "    return samples"
   ],
   "metadata": {
    "collapsed": false,
    "ExecuteTime": {
     "end_time": "2024-01-11T21:15:51.129642Z",
     "start_time": "2024-01-11T21:15:51.124979Z"
    }
   },
   "id": "dd32f7184d30b579"
  },
  {
   "cell_type": "code",
   "execution_count": 34,
   "outputs": [],
   "source": [
    "samples = annotate_samples(df)"
   ],
   "metadata": {
    "collapsed": false,
    "ExecuteTime": {
     "end_time": "2024-01-11T21:15:51.157435Z",
     "start_time": "2024-01-11T21:15:51.138216Z"
    }
   },
   "id": "af4e43e313cac36e"
  },
  {
   "cell_type": "code",
   "execution_count": 36,
   "outputs": [],
   "source": [
    "samples_df = pd.DataFrame(samples)"
   ],
   "metadata": {
    "collapsed": false,
    "ExecuteTime": {
     "end_time": "2024-01-11T21:16:10.075022Z",
     "start_time": "2024-01-11T21:16:10.073172Z"
    }
   },
   "id": "c07846a44b41f922"
  },
  {
   "cell_type": "code",
   "execution_count": 37,
   "outputs": [
    {
     "data": {
      "text/plain": "            id                                           question  \\\n0         SP-0  Mr. and Mrs. Mustard have six daughters and ea...   \n1      SP-0_SR  The six daughters of Mr. and Mrs. Mustard each...   \n2      SP-0_CR  A chess team has five players, and each player...   \n3         SP-1  A woman shoots her husband. Then she holds him...   \n4      SP-1_SR  An individual shoots their spouse. She continu...   \n..         ...                                                ...   \n502  SP-207_SR  Ten pears hung high, ten men passed past, Each...   \n503  SP-207_CR  There were twenty boys with different names in...   \n504     SP-208       The more you take, the more you leave behind   \n505  SP-208_SR           The more you take, the more you abandon.   \n506  SP-208_CR  You are running so fast but you're not getting...   \n\n                                                answer  \\\n0               Each daughter shares the same brother.   \n1               Each daughter shares the same brother.   \n2                   Each player shares the same coach.   \n3    The woman was a photographer. She shot a pictu...   \n4    The woman was a photographer. She shot a pictu...   \n..                                                 ...   \n502                EACH is the name of one of the men.   \n503                All is the name of one of the boys.   \n504                                         Footsteps.   \n505                                         Footsteps.   \n506                                         Treadmill.   \n\n                                            hypothesis  \n0    The question states that Mr. and Mrs. Mustard ...  \n1    The only way that what question asked is possi...  \n2     The only way this could be possible is if the...  \n3    The question is a riddle that uses misleading ...  \n4    The question describes a series of actions tha...  \n..                                                 ...  \n502  The question presents a riddle that seems to d...  \n503  The question presents a scenario where twenty ...  \n504  The question \"The more you take, the more you ...  \n505  The question is a riddle that requires a metap...  \n506  The question asks for a location where despite...  \n\n[507 rows x 4 columns]",
      "text/html": "<div>\n<style scoped>\n    .dataframe tbody tr th:only-of-type {\n        vertical-align: middle;\n    }\n\n    .dataframe tbody tr th {\n        vertical-align: top;\n    }\n\n    .dataframe thead th {\n        text-align: right;\n    }\n</style>\n<table border=\"1\" class=\"dataframe\">\n  <thead>\n    <tr style=\"text-align: right;\">\n      <th></th>\n      <th>id</th>\n      <th>question</th>\n      <th>answer</th>\n      <th>hypothesis</th>\n    </tr>\n  </thead>\n  <tbody>\n    <tr>\n      <th>0</th>\n      <td>SP-0</td>\n      <td>Mr. and Mrs. Mustard have six daughters and ea...</td>\n      <td>Each daughter shares the same brother.</td>\n      <td>The question states that Mr. and Mrs. Mustard ...</td>\n    </tr>\n    <tr>\n      <th>1</th>\n      <td>SP-0_SR</td>\n      <td>The six daughters of Mr. and Mrs. Mustard each...</td>\n      <td>Each daughter shares the same brother.</td>\n      <td>The only way that what question asked is possi...</td>\n    </tr>\n    <tr>\n      <th>2</th>\n      <td>SP-0_CR</td>\n      <td>A chess team has five players, and each player...</td>\n      <td>Each player shares the same coach.</td>\n      <td>The only way this could be possible is if the...</td>\n    </tr>\n    <tr>\n      <th>3</th>\n      <td>SP-1</td>\n      <td>A woman shoots her husband. Then she holds him...</td>\n      <td>The woman was a photographer. She shot a pictu...</td>\n      <td>The question is a riddle that uses misleading ...</td>\n    </tr>\n    <tr>\n      <th>4</th>\n      <td>SP-1_SR</td>\n      <td>An individual shoots their spouse. She continu...</td>\n      <td>The woman was a photographer. She shot a pictu...</td>\n      <td>The question describes a series of actions tha...</td>\n    </tr>\n    <tr>\n      <th>...</th>\n      <td>...</td>\n      <td>...</td>\n      <td>...</td>\n      <td>...</td>\n    </tr>\n    <tr>\n      <th>502</th>\n      <td>SP-207_SR</td>\n      <td>Ten pears hung high, ten men passed past, Each...</td>\n      <td>EACH is the name of one of the men.</td>\n      <td>The question presents a riddle that seems to d...</td>\n    </tr>\n    <tr>\n      <th>503</th>\n      <td>SP-207_CR</td>\n      <td>There were twenty boys with different names in...</td>\n      <td>All is the name of one of the boys.</td>\n      <td>The question presents a scenario where twenty ...</td>\n    </tr>\n    <tr>\n      <th>504</th>\n      <td>SP-208</td>\n      <td>The more you take, the more you leave behind</td>\n      <td>Footsteps.</td>\n      <td>The question \"The more you take, the more you ...</td>\n    </tr>\n    <tr>\n      <th>505</th>\n      <td>SP-208_SR</td>\n      <td>The more you take, the more you abandon.</td>\n      <td>Footsteps.</td>\n      <td>The question is a riddle that requires a metap...</td>\n    </tr>\n    <tr>\n      <th>506</th>\n      <td>SP-208_CR</td>\n      <td>You are running so fast but you're not getting...</td>\n      <td>Treadmill.</td>\n      <td>The question asks for a location where despite...</td>\n    </tr>\n  </tbody>\n</table>\n<p>507 rows × 4 columns</p>\n</div>"
     },
     "execution_count": 37,
     "metadata": {},
     "output_type": "execute_result"
    }
   ],
   "source": [
    "samples_df"
   ],
   "metadata": {
    "collapsed": false,
    "ExecuteTime": {
     "end_time": "2024-01-11T21:16:13.240224Z",
     "start_time": "2024-01-11T21:16:13.150418Z"
    }
   },
   "id": "3b5cdf827bb3d191"
  },
  {
   "cell_type": "code",
   "execution_count": 38,
   "outputs": [],
   "source": [
    "import os\n",
    "if os.path.exists(\"./rag\"):\n",
    "    print(\"Directory exists\")\n",
    "else:\n",
    "    os.mkdir(\"./rag\")"
   ],
   "metadata": {
    "collapsed": false,
    "ExecuteTime": {
     "end_time": "2024-01-11T21:20:03.106589Z",
     "start_time": "2024-01-11T21:20:03.104219Z"
    }
   },
   "id": "7c1eb73eb99b182f"
  },
  {
   "cell_type": "code",
   "execution_count": 42,
   "outputs": [],
   "source": [
    "filename = os.path.basename(DATA_PATH)\n",
    "file_splited = filename.split(\"_\")\n",
    "split_mode = file_splited[1]\n",
    "model_name = file_splited[2]\n"
   ],
   "metadata": {
    "collapsed": false,
    "ExecuteTime": {
     "end_time": "2024-01-11T21:20:54.978046Z",
     "start_time": "2024-01-11T21:20:54.972096Z"
    }
   },
   "id": "6ac5c5ad24ca194a"
  },
  {
   "cell_type": "code",
   "execution_count": 44,
   "outputs": [],
   "source": [
    "samples_df.to_csv(f\"./rag/{split_mode}_{model_name}_raw.csv\", index=False)"
   ],
   "metadata": {
    "collapsed": false,
    "ExecuteTime": {
     "end_time": "2024-01-11T21:21:19.016213Z",
     "start_time": "2024-01-11T21:21:18.982967Z"
    }
   },
   "id": "18f2ef3db412ae0c"
  },
  {
   "cell_type": "code",
   "execution_count": null,
   "outputs": [],
   "source": [],
   "metadata": {
    "collapsed": false
   },
   "id": "ec891913462ba830"
  }
 ],
 "metadata": {
  "kernelspec": {
   "display_name": "Python 3",
   "language": "python",
   "name": "python3"
  },
  "language_info": {
   "codemirror_mode": {
    "name": "ipython",
    "version": 2
   },
   "file_extension": ".py",
   "mimetype": "text/x-python",
   "name": "python",
   "nbconvert_exporter": "python",
   "pygments_lexer": "ipython2",
   "version": "2.7.6"
  }
 },
 "nbformat": 4,
 "nbformat_minor": 5
}
