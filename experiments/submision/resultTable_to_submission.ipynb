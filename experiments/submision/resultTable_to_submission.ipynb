{
 "cells": [
  {
   "cell_type": "code",
   "execution_count": 1,
   "id": "initial_id",
   "metadata": {
    "collapsed": true,
    "ExecuteTime": {
     "end_time": "2024-02-08T14:28:35.704512Z",
     "start_time": "2024-02-08T14:28:35.413569Z"
    }
   },
   "outputs": [],
   "source": [
    "import pandas as pd\n",
    "import os"
   ]
  },
  {
   "cell_type": "code",
   "execution_count": 2,
   "outputs": [],
   "source": [
    "INPUT_PATH = \"../promptENG/SE2024/Zephyr-EP-CoT/infer2.csv\"\n",
    "LABEL_KEY = \"zephyr\""
   ],
   "metadata": {
    "collapsed": false,
    "ExecuteTime": {
     "end_time": "2024-02-08T14:28:35.712022Z",
     "start_time": "2024-02-08T14:28:35.705083Z"
    }
   },
   "id": "ff85c202d6415e87"
  },
  {
   "cell_type": "code",
   "execution_count": 3,
   "outputs": [],
   "source": [
    "base_dir = os.path.abspath(os.path.dirname(INPUT_PATH))"
   ],
   "metadata": {
    "collapsed": false,
    "ExecuteTime": {
     "end_time": "2024-02-08T14:28:35.712615Z",
     "start_time": "2024-02-08T14:28:35.709656Z"
    }
   },
   "id": "172aed43af59b7de"
  },
  {
   "cell_type": "code",
   "execution_count": 4,
   "outputs": [],
   "source": [
    "submission_file = os.path.join(base_dir, \"answer_sen.txt\")"
   ],
   "metadata": {
    "collapsed": false,
    "ExecuteTime": {
     "end_time": "2024-02-08T14:28:35.718744Z",
     "start_time": "2024-02-08T14:28:35.712786Z"
    }
   },
   "id": "f9140a267fbd771b"
  },
  {
   "cell_type": "code",
   "execution_count": 5,
   "outputs": [],
   "source": [
    "data = pd.read_csv(INPUT_PATH)"
   ],
   "metadata": {
    "collapsed": false,
    "ExecuteTime": {
     "end_time": "2024-02-08T14:28:35.729188Z",
     "start_time": "2024-02-08T14:28:35.716102Z"
    }
   },
   "id": "93255437d3241401"
  },
  {
   "cell_type": "code",
   "execution_count": 6,
   "outputs": [],
   "source": [
    "submission = [str(ds[LABEL_KEY]) for idx, ds in data.iterrows()]"
   ],
   "metadata": {
    "collapsed": false,
    "ExecuteTime": {
     "end_time": "2024-02-08T14:28:35.743281Z",
     "start_time": "2024-02-08T14:28:35.731639Z"
    }
   },
   "id": "9f088b4717b901d8"
  },
  {
   "cell_type": "code",
   "execution_count": 7,
   "outputs": [],
   "source": [
    "submission_content = '\\n'.join(submission)"
   ],
   "metadata": {
    "collapsed": false,
    "ExecuteTime": {
     "end_time": "2024-02-08T14:28:35.743534Z",
     "start_time": "2024-02-08T14:28:35.735341Z"
    }
   },
   "id": "f557efb9ec333864"
  },
  {
   "cell_type": "code",
   "execution_count": 8,
   "outputs": [],
   "source": [
    "with open(submission_file, 'w') as f:\n",
    "    f.write(submission_content)\n",
    "    \n",
    "with open(\"answer_sen.txt\", 'w') as f:\n",
    "    f.write(submission_content)"
   ],
   "metadata": {
    "collapsed": false,
    "ExecuteTime": {
     "end_time": "2024-02-08T14:28:35.744059Z",
     "start_time": "2024-02-08T14:28:35.739519Z"
    }
   },
   "id": "bcbc80fa23e2cd91"
  },
  {
   "cell_type": "code",
   "execution_count": 9,
   "outputs": [],
   "source": [
    "import zipfile\n",
    "\n",
    "zip_submission_path = submission_file[:submission_file.rfind('.')] + \".zip\"\n",
    "zip_submission_path = zip_submission_path.replace(\"answer_sen\", \"submission\")"
   ],
   "metadata": {
    "collapsed": false,
    "ExecuteTime": {
     "end_time": "2024-02-08T14:28:35.749997Z",
     "start_time": "2024-02-08T14:28:35.744546Z"
    }
   },
   "id": "39a8d6e41b12c09e"
  },
  {
   "cell_type": "code",
   "execution_count": 10,
   "outputs": [],
   "source": [
    "zipfile.ZipFile(zip_submission_path, mode='w').write(\"answer_sen.txt\")"
   ],
   "metadata": {
    "collapsed": false,
    "ExecuteTime": {
     "end_time": "2024-02-08T14:28:35.753240Z",
     "start_time": "2024-02-08T14:28:35.747718Z"
    }
   },
   "id": "906eb869ccb164b9"
  }
 ],
 "metadata": {
  "kernelspec": {
   "display_name": "Python 3",
   "language": "python",
   "name": "python3"
  },
  "language_info": {
   "codemirror_mode": {
    "name": "ipython",
    "version": 2
   },
   "file_extension": ".py",
   "mimetype": "text/x-python",
   "name": "python",
   "nbconvert_exporter": "python",
   "pygments_lexer": "ipython2",
   "version": "2.7.6"
  }
 },
 "nbformat": 4,
 "nbformat_minor": 5
}
