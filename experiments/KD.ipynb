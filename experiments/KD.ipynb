{
 "nbformat": 4,
 "nbformat_minor": 0,
 "metadata": {
  "colab": {
   "provenance": []
  },
  "kernelspec": {
   "name": "python3",
   "language": "python",
   "display_name": "Python 3 (ipykernel)"
  },
  "language_info": {
   "name": "python"
  }
 },
 "cells": [
  {
   "cell_type": "code",
   "execution_count": 1,
   "outputs": [],
   "source": [
    "# Utils"
   ],
   "metadata": {
    "collapsed": false,
    "ExecuteTime": {
     "end_time": "2023-10-22T16:33:05.602014Z",
     "start_time": "2023-10-22T16:33:05.598479Z"
    }
   }
  },
  {
   "cell_type": "code",
   "execution_count": 2,
   "outputs": [],
   "source": [
    "import numpy as np\n",
    "import os\n",
    "import pandas as pd\n",
    "from tqdm.auto import tqdm\n",
    "\n",
    "import datetime\n",
    "import time"
   ],
   "metadata": {
    "collapsed": false,
    "ExecuteTime": {
     "end_time": "2023-10-22T16:33:06.272412Z",
     "start_time": "2023-10-22T16:33:05.605086Z"
    }
   }
  },
  {
   "cell_type": "markdown",
   "source": [
    "## Chat Bots"
   ],
   "metadata": {
    "collapsed": false
   }
  },
  {
   "cell_type": "code",
   "execution_count": 3,
   "metadata": {
    "id": "OxvrKB6FAwPk",
    "ExecuteTime": {
     "end_time": "2023-10-22T16:33:06.422760Z",
     "start_time": "2023-10-22T16:33:06.274730Z"
    }
   },
   "outputs": [],
   "source": [
    "import openai\n",
    "\n",
    "\n",
    "class GPTBot:\n",
    "    def __init__(self, model=\"gpt-4\"):\n",
    "        print(\"Initiating GPT chat bot...\")\n",
    "\n",
    "        from secret_keys import OPENAI_API_KEY\n",
    "        openai.api_key = OPENAI_API_KEY\n",
    "\n",
    "        self.model = model\n",
    "        print(\"GPT chat bot Initiated!\")\n",
    "\n",
    "    def get_completion(self, prompt):\n",
    "        while True:\n",
    "            try:\n",
    "                completion = self.__get_completion_handler(prompt)\n",
    "            except:\n",
    "                print(f\"GPT completion failed .::{datetime.datetime.now()}::.\")\n",
    "                time.sleep(10)\n",
    "                print(f\"Trying GPT completion .::{datetime.datetime.now()}::.\")\n",
    "            else:\n",
    "                break\n",
    "        return completion\n",
    "\n",
    "    def __get_completion_handler(self, prompt):\n",
    "        messages = [{\"role\": \"user\", \"content\": prompt}]\n",
    "        response = openai.ChatCompletion.create(\n",
    "            model=self.model,\n",
    "            messages=messages,\n",
    "            temperature=0, # this is the degree of randomness of the model's output\n",
    "        )\n",
    "        return response.choices[0].message[\"content\"]"
   ]
  },
  {
   "cell_type": "code",
   "execution_count": 4,
   "outputs": [],
   "source": [
    "import pyperclip\n",
    "\n",
    "class CopyCatBot:\n",
    "    def __init__(self):\n",
    "        print(\"CopyCatBot Initiated!\")\n",
    "\n",
    "    @staticmethod\n",
    "    def get_completion(prompt):\n",
    "        pyperclip.copy(prompt)\n",
    "\n",
    "        while True:\n",
    "            completion = pyperclip.paste()\n",
    "            if completion != prompt:\n",
    "                prompt(f\"Completion completed: {datetime.datetime.now()}\")\n",
    "                return completion\n",
    "\n",
    "            pyperclip.copy(prompt)\n",
    "            time.sleep(20)\n"
   ],
   "metadata": {
    "collapsed": false,
    "ExecuteTime": {
     "end_time": "2023-10-22T16:33:06.426651Z",
     "start_time": "2023-10-22T16:33:06.424487Z"
    }
   }
  },
  {
   "cell_type": "markdown",
   "source": [
    "## Sentence Puzzle"
   ],
   "metadata": {
    "collapsed": false
   }
  },
  {
   "cell_type": "code",
   "execution_count": 5,
   "outputs": [],
   "source": [
    "from dataclasses import dataclass\n",
    "from typing import List\n",
    "from enum import Enum, auto\n",
    "\n",
    "class ModeQ(Enum):\n",
    "    Train = auto()\n",
    "    Test = auto()\n",
    "\n",
    "@dataclass()\n",
    "class SentencePuzzle:\n",
    "    id: str\n",
    "    question: str\n",
    "    answer: str\n",
    "    label: int\n",
    "    choices: List[str]\n",
    "    choice_order: List[int]\n",
    "\n",
    "    def __post_init__(self):\n",
    "        if self.answer is None:\n",
    "            self.mode = ModeQ.Test\n",
    "        else:\n",
    "            self.mode = ModeQ.Train\n",
    "\n",
    "\n",
    "def load_sentence_puzzles(file_path: str) -> list[SentencePuzzle]:\n",
    "    print(f\"Loading sentence puzzles from {file_path}\")\n",
    "    sps = np.load(file_path, allow_pickle=True)\n",
    "    puzzles = [\n",
    "        SentencePuzzle(\n",
    "            id=sp['id'],\n",
    "            question=sp['question'],\n",
    "            answer=sp.get('answer', None),\n",
    "            label=sp.get('label', None),\n",
    "            choices=sp['choice_list'],\n",
    "            choice_order=sp.get('choice_order', None)\n",
    "        )\n",
    "        for sp in sps]\n",
    "    print(f\"Loaded {len(puzzles)} sentence puzzles\")\n",
    "    return puzzles\n"
   ],
   "metadata": {
    "collapsed": false,
    "ExecuteTime": {
     "end_time": "2023-10-22T16:33:06.430770Z",
     "start_time": "2023-10-22T16:33:06.429501Z"
    }
   }
  },
  {
   "cell_type": "markdown",
   "source": [
    "# Prompt Setup"
   ],
   "metadata": {
    "id": "ZOn1CfT8BFQ4"
   }
  },
  {
   "cell_type": "code",
   "source": [
    "question = \"A man shaves everyday, yet keeps his beard long.\"\n",
    "answer = \"He wants to maintain his appearance.\"\n",
    "\n",
    "base_prompt = \"\"\"\n",
    "Your task is to generate a descriptive explanation from a question to an answer option. \\\n",
    "In the following, a question and an option as the answer to the question is provided. \\\n",
    "The answer might be or not be a correct answer.\n",
    "\n",
    "Write a descriptive explanation in at most one paragraph and 200 words to show that path from question to the answer.\n",
    "\n",
    "Question: ```{question}```\n",
    "Answer Option: ```{option}```\n",
    "\"\"\"\n",
    "\n",
    "generate_prompt_baseline = lambda que, opt: base_prompt.format(question=que, option=opt)\n",
    "\n",
    "# response = get_completion(prompt)\n",
    "# print(generate_prompt_baseline(question,answer))\n"
   ],
   "metadata": {
    "colab": {
     "base_uri": "https://localhost:8080/"
    },
    "id": "DQENRkzmA0An",
    "outputId": "3a6fdec3-0f68-48a9-a233-5e9d97d4e5ae",
    "ExecuteTime": {
     "end_time": "2023-10-22T16:33:06.433334Z",
     "start_time": "2023-10-22T16:33:06.431707Z"
    }
   },
   "execution_count": 6,
   "outputs": []
  },
  {
   "cell_type": "markdown",
   "source": [
    "# Experiment"
   ],
   "metadata": {
    "collapsed": false
   }
  },
  {
   "cell_type": "markdown",
   "source": [
    "## Config"
   ],
   "metadata": {
    "collapsed": false
   }
  },
  {
   "cell_type": "code",
   "execution_count": 7,
   "outputs": [],
   "source": [
    "Demo = False\n",
    "PromptMode = \"baseline\"\n",
    "Phase = [\"train\", \"test\"][0]\n",
    "GPT_MODEL = \"gpt-4\"\n",
    "\n",
    "QuestionsPath = {\n",
    "    \"train\": \"../datasets/data/SP-train.npy\",\n",
    "    \"test\": \"../datasets/data/SP-val-nolabel.npy\"\n",
    "}[Phase]\n",
    "\n",
    "DumpDir = \"SentencePuzzleKD\"\n",
    "DumpPath = os.path.join(DumpDir, \"KD_\" + Phase + \"_\" + GPT_MODEL.replace(\".\", \"\") + \".csv\")"
   ],
   "metadata": {
    "collapsed": false,
    "ExecuteTime": {
     "end_time": "2023-10-22T16:33:06.441121Z",
     "start_time": "2023-10-22T16:33:06.435339Z"
    }
   }
  },
  {
   "cell_type": "markdown",
   "source": [
    "## SetUP"
   ],
   "metadata": {
    "collapsed": false
   }
  },
  {
   "cell_type": "code",
   "source": [
    "print(\"Initiating experiments pipeline...\")\n",
    "\n",
    "if Demo:\n",
    "    chat_bot = CopyCatBot()\n",
    "else:\n",
    "    chat_bot = GPTBot(model=GPT_MODEL)\n",
    "\n",
    "if PromptMode == \"baseline\":\n",
    "    prompt_generator = generate_prompt_baseline\n",
    "else:\n",
    "    print(f\"Unknown prompt generating method: {PromptMode}\")\n",
    "    raise Exception()\n",
    "\n",
    "if not os.path.exists(DumpDir):\n",
    "    os.mkdir(DumpDir)\n",
    "    print(\"DumpDir created\")\n",
    "\n",
    "puzzles = load_sentence_puzzles(QuestionsPath)"
   ],
   "metadata": {
    "id": "_809duiZ_6qU",
    "ExecuteTime": {
     "end_time": "2023-10-22T16:33:06.458990Z",
     "start_time": "2023-10-22T16:33:06.439139Z"
    }
   },
   "execution_count": 8,
   "outputs": [
    {
     "name": "stdout",
     "output_type": "stream",
     "text": [
      "Initiating experiments pipeline...\n",
      "Initiating GPT chat bot...\n",
      "GPT chat bot Initiated!\n",
      "Loading sentence puzzles from ../datasets/data/SP-train.npy\n",
      "Loaded 507 sentence puzzles\n"
     ]
    }
   ]
  },
  {
   "cell_type": "code",
   "execution_count": 9,
   "outputs": [
    {
     "name": "stdout",
     "output_type": "stream",
     "text": [
      "Train mode!\n",
      "Records recovered from SentencePuzzleKD/KD_train.csv\n",
      ".::291 records::.\n"
     ]
    }
   ],
   "source": [
    "kd_report = {\n",
    "    \"id\": list(),\n",
    "    \"question\": list(),\n",
    "    \"option_1\": list(),\n",
    "    \"hypothesis_1\": list(),\n",
    "    \"option_2\": list(),\n",
    "    \"hypothesis_2\": list(),\n",
    "    \"option_3\": list(),\n",
    "    \"hypothesis_3\": list(),\n",
    "    \"option_4\": list(),\n",
    "}\n",
    "\n",
    "if Phase == \"train\":\n",
    "    kd_report[\"answer\"] = list()\n",
    "    kd_report[\"label\"] = list()\n",
    "    print(\"Train mode!\")\n",
    "\n",
    "\n",
    "if os.path.exists(DumpPath):\n",
    "    df = pd.read_csv(DumpPath)\n",
    "    for col in kd_report.keys():\n",
    "        kd_report[col] = df[col].tolist()\n",
    "\n",
    "    print(f\"Records recovered from {DumpPath}\")\n",
    "    print(f\".::{len(kd_report['id'])} records::.\")"
   ],
   "metadata": {
    "collapsed": false,
    "ExecuteTime": {
     "end_time": "2023-10-22T16:33:06.464949Z",
     "start_time": "2023-10-22T16:33:06.450601Z"
    }
   }
  },
  {
   "cell_type": "markdown",
   "source": [
    "## Execute experiment"
   ],
   "metadata": {
    "collapsed": false
   }
  },
  {
   "cell_type": "code",
   "execution_count": null,
   "outputs": [
    {
     "data": {
      "text/plain": "  0%|          | 0/216 [00:00<?, ?it/s]",
      "application/vnd.jupyter.widget-view+json": {
       "version_major": 2,
       "version_minor": 0,
       "model_id": "eae050acf33449cbaf97cfb825f10314"
      }
     },
     "metadata": {},
     "output_type": "display_data"
    },
    {
     "name": "stdout",
     "output_type": "stream",
     "text": [
      "GPT completion failed .::2023-10-22 20:03:09.600481::.\n",
      "Trying GPT completion .::2023-10-22 20:03:19.605982::.\n",
      "GPT completion failed .::2023-10-22 20:03:19.977536::.\n",
      "Trying GPT completion .::2023-10-22 20:03:29.982600::.\n",
      "GPT completion failed .::2023-10-22 20:03:30.383025::.\n",
      "Trying GPT completion .::2023-10-22 20:03:40.391535::.\n",
      "GPT completion failed .::2023-10-22 20:03:40.805586::.\n",
      "Trying GPT completion .::2023-10-22 20:03:50.809857::.\n",
      "GPT completion failed .::2023-10-22 20:03:51.166652::.\n",
      "Trying GPT completion .::2023-10-22 20:04:01.171719::.\n",
      "GPT completion failed .::2023-10-22 20:04:01.559971::.\n",
      "Trying GPT completion .::2023-10-22 20:04:11.565094::.\n",
      "GPT completion failed .::2023-10-22 20:04:11.928084::.\n",
      "Trying GPT completion .::2023-10-22 20:04:21.931898::.\n",
      "GPT completion failed .::2023-10-22 20:04:22.274346::.\n",
      "Trying GPT completion .::2023-10-22 20:04:32.279682::.\n",
      "GPT completion failed .::2023-10-22 20:04:33.367294::.\n",
      "Trying GPT completion .::2023-10-22 20:04:43.368679::.\n",
      "GPT completion failed .::2023-10-22 20:04:43.982261::.\n",
      "Trying GPT completion .::2023-10-22 20:04:53.984058::.\n",
      "GPT completion failed .::2023-10-22 20:04:54.530818::.\n",
      "Trying GPT completion .::2023-10-22 20:05:04.536064::.\n",
      "GPT completion failed .::2023-10-22 20:05:04.905220::.\n",
      "Trying GPT completion .::2023-10-22 20:05:14.910822::.\n",
      "GPT completion failed .::2023-10-22 20:05:15.351241::.\n",
      "Trying GPT completion .::2023-10-22 20:05:25.356507::.\n",
      "GPT completion failed .::2023-10-22 20:05:25.899077::.\n",
      "Trying GPT completion .::2023-10-22 20:05:35.904339::.\n",
      "GPT completion failed .::2023-10-22 20:05:36.220480::.\n",
      "Trying GPT completion .::2023-10-22 20:05:46.225737::.\n",
      "GPT completion failed .::2023-10-22 20:05:46.584376::.\n",
      "Trying GPT completion .::2023-10-22 20:05:56.589674::.\n",
      "GPT completion failed .::2023-10-22 20:05:57.890084::.\n",
      "Trying GPT completion .::2023-10-22 20:06:07.892861::.\n",
      "GPT completion failed .::2023-10-22 20:06:09.213914::.\n",
      "Trying GPT completion .::2023-10-22 20:06:19.219231::.\n",
      "GPT completion failed .::2023-10-22 20:06:19.661482::.\n",
      "Trying GPT completion .::2023-10-22 20:06:29.664342::.\n",
      "GPT completion failed .::2023-10-22 20:06:30.103071::.\n",
      "Trying GPT completion .::2023-10-22 20:06:40.108355::.\n",
      "GPT completion failed .::2023-10-22 20:06:40.555815::.\n",
      "Trying GPT completion .::2023-10-22 20:06:50.561456::.\n",
      "GPT completion failed .::2023-10-22 20:06:50.982825::.\n",
      "Trying GPT completion .::2023-10-22 20:07:00.987952::.\n",
      "GPT completion failed .::2023-10-22 20:07:01.439062::.\n"
     ]
    }
   ],
   "source": [
    "start = len(kd_report['id'])\n",
    "length = len(puzzles)\n",
    "\n",
    "for idx in tqdm(range(start, length)):\n",
    "    puzzle = puzzles[idx]\n",
    "\n",
    "    kd_report['id'].append(puzzle.id)\n",
    "    kd_report['question'].append(puzzle.question)\n",
    "\n",
    "    for i in [1, 2, 3]:\n",
    "        put = f\"option_{i}\"\n",
    "        het = f\"hypothesis_{i}\"\n",
    "\n",
    "        option = puzzle.choices[i - 1]\n",
    "        prompt = prompt_generator(que=puzzle.question, opt=option)\n",
    "        hypothesis = chat_bot.get_completion(prompt)\n",
    "        kd_report[put].append(option)\n",
    "        kd_report[het].append(hypothesis)\n",
    "\n",
    "    put = \"option_4\"\n",
    "    option = puzzle.choices[3]\n",
    "    kd_report[put].append(option)\n",
    "\n",
    "    if Phase == \"train\":\n",
    "        kd_report['answer'].append(puzzle.answer)\n",
    "        kd_report[\"label\"].append(puzzle.label+1)\n",
    "\n",
    "    df = pd.DataFrame(kd_report)\n",
    "    df.to_csv(DumpPath, index=False)\n",
    "\n",
    "print(f\"Dumped {idx+1} records to {DumpPath}\")"
   ],
   "metadata": {
    "collapsed": false,
    "is_executing": true,
    "ExecuteTime": {
     "start_time": "2023-10-22T16:33:06.463414Z"
    }
   }
  }
 ]
}
