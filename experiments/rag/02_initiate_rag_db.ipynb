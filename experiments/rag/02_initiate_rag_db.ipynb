{
 "cells": [
  {
   "cell_type": "code",
   "execution_count": null,
   "outputs": [],
   "source": [
    "!pip -q install langchain huggingface_hub openai tiktoken chromadb lark"
   ],
   "metadata": {
    "collapsed": false
   },
   "id": "8b2a6edc9f62bee3"
  },
  {
   "cell_type": "code",
   "execution_count": 1,
   "id": "initial_id",
   "metadata": {
    "collapsed": true,
    "ExecuteTime": {
     "end_time": "2024-01-13T08:45:01.633809Z",
     "start_time": "2024-01-13T08:44:56.819237Z"
    }
   },
   "outputs": [],
   "source": [
    "from langchain.schema import Document\n",
    "from langchain_community.vectorstores import Chroma\n",
    "from langchain.document_loaders.csv_loader import CSVLoader\n",
    "from langchain.embeddings import HuggingFaceBgeEmbeddings\n",
    "import torch"
   ]
  },
  {
   "cell_type": "code",
   "execution_count": 2,
   "outputs": [],
   "source": [
    "import pandas as pd"
   ],
   "metadata": {
    "collapsed": false,
    "ExecuteTime": {
     "end_time": "2024-01-13T08:45:02.083379Z",
     "start_time": "2024-01-13T08:45:01.632591Z"
    }
   },
   "id": "cfff079347c8ecb0"
  },
  {
   "cell_type": "code",
   "execution_count": 3,
   "outputs": [],
   "source": [
    "RAW_DATA_PATH = './train_gpt-4_raw.csv'"
   ],
   "metadata": {
    "collapsed": false,
    "ExecuteTime": {
     "end_time": "2024-01-13T08:45:02.089447Z",
     "start_time": "2024-01-13T08:45:02.083262Z"
    }
   },
   "id": "c037533d11421cc4"
  },
  {
   "cell_type": "markdown",
   "source": [
    "# Load Documents"
   ],
   "metadata": {
    "collapsed": false
   },
   "id": "41da1346fab5836d"
  },
  {
   "cell_type": "code",
   "execution_count": 26,
   "outputs": [],
   "source": [
    "doc_loader = CSVLoader(\n",
    "    file_path=RAW_DATA_PATH,\n",
    "    source_column=\"ID\",\n",
    "    metadata_columns=[\"ID\"],\n",
    ")"
   ],
   "metadata": {
    "collapsed": false,
    "ExecuteTime": {
     "end_time": "2024-01-13T08:51:31.741209Z",
     "start_time": "2024-01-13T08:51:31.732680Z"
    }
   },
   "id": "2ab448cbd7aeea51"
  },
  {
   "cell_type": "code",
   "execution_count": 27,
   "outputs": [],
   "source": [
    "docs = doc_loader.load()"
   ],
   "metadata": {
    "collapsed": false,
    "ExecuteTime": {
     "end_time": "2024-01-13T08:51:32.130149Z",
     "start_time": "2024-01-13T08:51:32.115204Z"
    }
   },
   "id": "c4ecb127e9e330b6"
  },
  {
   "cell_type": "markdown",
   "source": [
    "# Get Embeddings"
   ],
   "metadata": {
    "collapsed": false
   },
   "id": "6dda830038acde99"
  },
  {
   "cell_type": "code",
   "execution_count": null,
   "outputs": [],
   "source": [
    "embedding = HuggingFaceBgeEmbeddings(\n",
    "        model_name=\"BAAI/bge-large-en-v1.5\",\n",
    "        model_kwargs={\"device\": 'cuda' if torch.cuda.is_available() else 'cpu'},\n",
    "        encode_kwargs={'normalize_embeddings': True},\n",
    ")"
   ],
   "metadata": {
    "collapsed": false
   },
   "id": "4d471c5f9e3d7386"
  },
  {
   "cell_type": "markdown",
   "source": [
    "# Prepare DB"
   ],
   "metadata": {
    "collapsed": false
   },
   "id": "3e65a8447125e654"
  },
  {
   "cell_type": "code",
   "execution_count": null,
   "outputs": [],
   "source": [
    "persist_directory = 'db'\n",
    "\n",
    "vectordb = Chroma.from_documents(\n",
    "    documents=docs, \n",
    "    embedding=embedding,\n",
    "    persist_directory=persist_directory\n",
    ")\n",
    "vectordb.persist()"
   ],
   "metadata": {
    "collapsed": false
   },
   "id": "638a5d9819d9a494"
  }
 ],
 "metadata": {
  "kernelspec": {
   "display_name": "Python 3",
   "language": "python",
   "name": "python3"
  },
  "language_info": {
   "codemirror_mode": {
    "name": "ipython",
    "version": 2
   },
   "file_extension": ".py",
   "mimetype": "text/x-python",
   "name": "python",
   "nbconvert_exporter": "python",
   "pygments_lexer": "ipython2",
   "version": "2.7.6"
  }
 },
 "nbformat": 4,
 "nbformat_minor": 5
}
