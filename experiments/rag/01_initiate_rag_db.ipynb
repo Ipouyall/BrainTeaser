{
 "cells": [
  {
   "cell_type": "code",
   "execution_count": null,
   "outputs": [],
   "source": [
    "!pip -q install langchain huggingface_hub tiktoken chromadb lark gdown"
   ],
   "metadata": {
    "collapsed": false
   },
   "id": "8b2a6edc9f62bee3"
  },
  {
   "cell_type": "code",
   "execution_count": 1,
   "id": "initial_id",
   "metadata": {
    "collapsed": true,
    "ExecuteTime": {
     "end_time": "2024-02-01T22:16:56.222045Z",
     "start_time": "2024-02-01T22:16:51.745773Z"
    }
   },
   "outputs": [],
   "source": [
    "from langchain.schema import Document\n",
    "from langchain_community.vectorstores import Chroma\n",
    "from langchain.document_loaders.csv_loader import CSVLoader\n",
    "from langchain.embeddings import HuggingFaceBgeEmbeddings\n",
    "import torch"
   ]
  },
  {
   "cell_type": "code",
   "execution_count": 2,
   "outputs": [],
   "source": [
    "import pandas as pd\n",
    "import os"
   ],
   "metadata": {
    "collapsed": false,
    "ExecuteTime": {
     "end_time": "2024-01-13T08:45:02.083379Z",
     "start_time": "2024-01-13T08:45:01.632591Z"
    }
   },
   "id": "cfff079347c8ecb0"
  },
  {
   "cell_type": "code",
   "execution_count": 2,
   "outputs": [],
   "source": [
    "RAW_DATA_PATH = './train_gpt-4_raw_RAG.csv'\n",
    "VECTORIZE_DB_PERSIST_DIRECTORY = 'SE2024/vdb'"
   ],
   "metadata": {
    "collapsed": false,
    "ExecuteTime": {
     "end_time": "2024-02-01T22:16:56.223157Z",
     "start_time": "2024-02-01T22:16:56.219239Z"
    }
   },
   "id": "c037533d11421cc4"
  },
  {
   "cell_type": "code",
   "execution_count": null,
   "outputs": [],
   "source": [
    "if os.path.exists(RAW_DATA_PATH):\n",
    "    print('Data file already exists')\n",
    "else:\n",
    "    print(\"Data doesn't exist, start download from the google drive...\")\n",
    "    !gdown 15VK8MaOEg2gF8iwmI4bummXt8whZF9Bq -O $RAW_DATA_PATH"
   ],
   "metadata": {
    "collapsed": false
   },
   "id": "de599b635ade4b58"
  },
  {
   "cell_type": "markdown",
   "source": [
    "# Load Documents"
   ],
   "metadata": {
    "collapsed": false
   },
   "id": "41da1346fab5836d"
  },
  {
   "cell_type": "code",
   "execution_count": 3,
   "outputs": [],
   "source": [
    "doc_loader = CSVLoader(\n",
    "    file_path=RAW_DATA_PATH,\n",
    "    source_column=\"ID\",\n",
    "    metadata_columns=[\"ID\"],\n",
    ")"
   ],
   "metadata": {
    "collapsed": false,
    "ExecuteTime": {
     "end_time": "2024-02-01T22:16:56.223252Z",
     "start_time": "2024-02-01T22:16:56.220323Z"
    }
   },
   "id": "2ab448cbd7aeea51"
  },
  {
   "cell_type": "code",
   "execution_count": 4,
   "outputs": [],
   "source": [
    "docs = doc_loader.load()"
   ],
   "metadata": {
    "collapsed": false,
    "ExecuteTime": {
     "end_time": "2024-02-01T22:16:56.237636Z",
     "start_time": "2024-02-01T22:16:56.222734Z"
    }
   },
   "id": "c4ecb127e9e330b6"
  },
  {
   "cell_type": "markdown",
   "source": [
    "# Get Embeddings"
   ],
   "metadata": {
    "collapsed": false
   },
   "id": "6dda830038acde99"
  },
  {
   "cell_type": "code",
   "execution_count": null,
   "outputs": [],
   "source": [
    "embedding = HuggingFaceBgeEmbeddings(\n",
    "        model_name=\"BAAI/bge-large-en-v1.5\",\n",
    "        model_kwargs={\"device\": 'cuda' if torch.cuda.is_available() else 'cpu'},\n",
    "        encode_kwargs={'normalize_embeddings': True},\n",
    ")"
   ],
   "metadata": {
    "collapsed": false
   },
   "id": "4d471c5f9e3d7386"
  },
  {
   "cell_type": "markdown",
   "source": [
    "# Prepare and Persist DB"
   ],
   "metadata": {
    "collapsed": false
   },
   "id": "3e65a8447125e654"
  },
  {
   "cell_type": "code",
   "execution_count": null,
   "outputs": [],
   "source": [
    "os.makedirs(VECTORIZE_DB_PERSIST_DIRECTORY, exist_ok=True)"
   ],
   "metadata": {
    "collapsed": false
   },
   "id": "2c36f4a948363bdc"
  },
  {
   "cell_type": "code",
   "execution_count": null,
   "outputs": [],
   "source": [
    "vector_store = Chroma(\n",
    "    persist_directory=VECTORIZE_DB_PERSIST_DIRECTORY,\n",
    "    embedding=embedding,\n",
    "    documents=docs,\n",
    ")"
   ],
   "metadata": {
    "collapsed": false
   },
   "id": "638a5d9819d9a494"
  },
  {
   "cell_type": "code",
   "execution_count": null,
   "outputs": [],
   "source": [
    "vector_store.persist()"
   ],
   "metadata": {
    "collapsed": false
   },
   "id": "19b4d462f2552c7f"
  }
 ],
 "metadata": {
  "kernelspec": {
   "display_name": "Python 3",
   "language": "python",
   "name": "python3"
  },
  "language_info": {
   "codemirror_mode": {
    "name": "ipython",
    "version": 2
   },
   "file_extension": ".py",
   "mimetype": "text/x-python",
   "name": "python",
   "nbconvert_exporter": "python",
   "pygments_lexer": "ipython2",
   "version": "2.7.6"
  }
 },
 "nbformat": 4,
 "nbformat_minor": 5
}
