{
 "cells": [
  {
   "cell_type": "code",
   "execution_count": 7,
   "id": "initial_id",
   "metadata": {
    "collapsed": true,
    "ExecuteTime": {
     "end_time": "2024-02-07T21:16:35.599016Z",
     "start_time": "2024-02-07T21:16:35.540303Z"
    }
   },
   "outputs": [],
   "source": [
    "import os\n",
    "import pandas as pd\n",
    "import json\n",
    "import numpy as np"
   ]
  },
  {
   "cell_type": "code",
   "execution_count": 8,
   "outputs": [],
   "source": [
    "DATA_DIR = './SE2024/12-ranker-summarize'\n",
    "INPUT_DATA_PATH = f'{DATA_DIR}/inference_data.jsonl'\n",
    "OUTPUT_DATA_PATH = f'{DATA_DIR}/infer.csv'"
   ],
   "metadata": {
    "collapsed": false,
    "ExecuteTime": {
     "end_time": "2024-02-07T21:16:35.607881Z",
     "start_time": "2024-02-07T21:16:35.542349Z"
    }
   },
   "id": "2efc4cef3e366825"
  },
  {
   "cell_type": "markdown",
   "source": [
    "# Read data"
   ],
   "metadata": {
    "collapsed": false
   },
   "id": "977fa14a7be363bf"
  },
  {
   "cell_type": "code",
   "execution_count": 9,
   "outputs": [],
   "source": [
    "def read_inference(address):\n",
    "    json_list = []\n",
    "    with open(address, 'r') as file:\n",
    "        for line in file:\n",
    "            data = json.loads(line)\n",
    "            json_list.append(data)\n",
    "    return json_list"
   ],
   "metadata": {
    "collapsed": false,
    "ExecuteTime": {
     "end_time": "2024-02-07T21:16:35.608001Z",
     "start_time": "2024-02-07T21:16:35.548277Z"
    }
   },
   "id": "33e9ec172dffd5e9"
  },
  {
   "cell_type": "code",
   "execution_count": 10,
   "outputs": [
    {
     "name": "stdout",
     "output_type": "stream",
     "text": [
      "Number of loaded data: 120\n"
     ]
    }
   ],
   "source": [
    "inferenced_data =  read_inference(INPUT_DATA_PATH)\n",
    "\n",
    "print(f\"Number of loaded data: {len(inferenced_data)}\")"
   ],
   "metadata": {
    "collapsed": false,
    "ExecuteTime": {
     "end_time": "2024-02-07T21:16:35.610728Z",
     "start_time": "2024-02-07T21:16:35.551761Z"
    }
   },
   "id": "3317b9d6e6855878"
  },
  {
   "cell_type": "markdown",
   "source": [
    "# Extract option"
   ],
   "metadata": {
    "collapsed": false
   },
   "id": "ccb95f450998e190"
  },
  {
   "cell_type": "code",
   "execution_count": 11,
   "outputs": [],
   "source": [
    "def find_last_mentioned_option(text: str):\n",
    "    \"\"\"return option index as [0, 1, 2, 3]\"\"\"\n",
    "    option_key = [\"Option 1\", \"Option 2\", \"Option 3\", \"Option 4\"]\n",
    "    last_mentioned = [text.rfind(opt) for opt in option_key]\n",
    "    return (np.argmax(last_mentioned))"
   ],
   "metadata": {
    "collapsed": false,
    "ExecuteTime": {
     "end_time": "2024-02-07T21:16:35.611646Z",
     "start_time": "2024-02-07T21:16:35.559376Z"
    }
   },
   "id": "bdee52554bdf5483"
  },
  {
   "cell_type": "code",
   "execution_count": 12,
   "outputs": [],
   "source": [
    "data = []\n",
    "\n",
    "for ds in inferenced_data:\n",
    "    option_index = find_last_mentioned_option(ds[\"zephyr\"])\n",
    "    data.append({\n",
    "        \"question\": ds['question'],\n",
    "        \"0\": ds['option 1'],\n",
    "        \"1\": ds['option 2'],\n",
    "        \"2\": ds['option 3'],\n",
    "        \"3\": ds['option 4'],\n",
    "        \"zephyr\": option_index,\n",
    "        \"zephyr-raw\": ds[\"zephyr\"],\n",
    "    })\n",
    "    \n",
    "df = pd.DataFrame(data)\n",
    "df.to_csv(OUTPUT_DATA_PATH, index=False)"
   ],
   "metadata": {
    "collapsed": false,
    "ExecuteTime": {
     "end_time": "2024-02-07T21:16:35.612418Z",
     "start_time": "2024-02-07T21:16:35.566384Z"
    }
   },
   "id": "39d0ec3c5364992d"
  },
  {
   "cell_type": "code",
   "execution_count": 12,
   "outputs": [],
   "source": [],
   "metadata": {
    "collapsed": false,
    "ExecuteTime": {
     "end_time": "2024-02-07T21:16:35.612656Z",
     "start_time": "2024-02-07T21:16:35.607140Z"
    }
   },
   "id": "6c29b1c764af7fa6"
  }
 ],
 "metadata": {
  "kernelspec": {
   "display_name": "Python 3",
   "language": "python",
   "name": "python3"
  },
  "language_info": {
   "codemirror_mode": {
    "name": "ipython",
    "version": 2
   },
   "file_extension": ".py",
   "mimetype": "text/x-python",
   "name": "python",
   "nbconvert_exporter": "python",
   "pygments_lexer": "ipython2",
   "version": "2.7.6"
  }
 },
 "nbformat": 4,
 "nbformat_minor": 5
}
