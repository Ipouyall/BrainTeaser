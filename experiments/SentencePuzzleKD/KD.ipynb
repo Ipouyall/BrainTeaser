{
 "nbformat": 4,
 "nbformat_minor": 0,
 "metadata": {
  "colab": {
   "provenance": []
  },
  "kernelspec": {
   "name": "python3",
   "language": "python",
   "display_name": "Python 3 (ipykernel)"
  },
  "language_info": {
   "name": "python"
  }
 },
 "cells": [
  {
   "cell_type": "code",
   "execution_count": 1,
   "outputs": [],
   "source": [
    "# Utils"
   ],
   "metadata": {
    "collapsed": false,
    "ExecuteTime": {
     "end_time": "2023-11-02T13:06:42.338698Z",
     "start_time": "2023-11-02T13:06:42.301476Z"
    }
   }
  },
  {
   "cell_type": "code",
   "execution_count": 2,
   "outputs": [],
   "source": [
    "import numpy as np\n",
    "import os\n",
    "import pandas as pd\n",
    "from tqdm.auto import tqdm\n",
    "\n",
    "import datetime\n",
    "import time"
   ],
   "metadata": {
    "collapsed": false,
    "ExecuteTime": {
     "end_time": "2023-11-02T13:06:42.738073Z",
     "start_time": "2023-11-02T13:06:42.309085Z"
    }
   }
  },
  {
   "cell_type": "markdown",
   "source": [
    "## Chat Bots"
   ],
   "metadata": {
    "collapsed": false
   }
  },
  {
   "cell_type": "code",
   "execution_count": 3,
   "metadata": {
    "id": "OxvrKB6FAwPk",
    "ExecuteTime": {
     "end_time": "2023-11-02T13:06:42.821922Z",
     "start_time": "2023-11-02T13:06:42.739930Z"
    }
   },
   "outputs": [],
   "source": [
    "import openai\n",
    "\n",
    "\n",
    "class GPTBot:\n",
    "    def __init__(self, model=\"gpt-4\"):\n",
    "        print(\"Initiating GPT chat bot...\")\n",
    "\n",
    "        from secret_keys import OPENAI_API_KEY\n",
    "        openai.api_key = OPENAI_API_KEY\n",
    "\n",
    "        self.model = model\n",
    "        print(\"GPT chat bot Initiated!\")\n",
    "\n",
    "    def get_completion(self, prompt):\n",
    "        while True:\n",
    "            try:\n",
    "                completion = self.__get_completion_handler(prompt)\n",
    "            except:\n",
    "                print(f\"GPT completion failed ::[{datetime.datetime.now()}]::\")\n",
    "                time.sleep(10)\n",
    "                print(f\"Trying GPT completion ::[{datetime.datetime.now()}]::\")\n",
    "            else:\n",
    "                break\n",
    "        return completion\n",
    "\n",
    "    def __get_completion_handler(self, prompt):\n",
    "        messages = [{\"role\": \"user\", \"content\": prompt}]\n",
    "        response = openai.ChatCompletion.create(\n",
    "            model=self.model,\n",
    "            messages=messages,\n",
    "            temperature=0, # this is the degree of randomness of the model's output\n",
    "        )\n",
    "        return response.choices[0].message[\"content\"]"
   ]
  },
  {
   "cell_type": "code",
   "execution_count": 4,
   "outputs": [],
   "source": [
    "import pyperclip\n",
    "\n",
    "class CopyCatBot:\n",
    "    def __init__(self):\n",
    "        print(\"CopyCatBot Initiated!\")\n",
    "\n",
    "    @staticmethod\n",
    "    def get_completion(prompt):\n",
    "        pyperclip.copy(prompt)\n",
    "\n",
    "        while True:\n",
    "            completion = pyperclip.paste()\n",
    "            if completion != prompt:\n",
    "                prompt(f\"Completion completed ::[{datetime.datetime.now()}]::\")\n",
    "                return completion\n",
    "            else:\n",
    "                print(f\"Waiting for completion, same entry as prompt ::[{datetime.datetime.now()}]::\")\n",
    "\n",
    "            pyperclip.copy(prompt)\n",
    "            time.sleep(20)\n"
   ],
   "metadata": {
    "collapsed": false,
    "ExecuteTime": {
     "end_time": "2023-11-02T13:06:42.825328Z",
     "start_time": "2023-11-02T13:06:42.822806Z"
    }
   }
  },
  {
   "cell_type": "markdown",
   "source": [
    "## Sentence Puzzle"
   ],
   "metadata": {
    "collapsed": false
   }
  },
  {
   "cell_type": "code",
   "execution_count": 5,
   "outputs": [],
   "source": [
    "from dataclasses import dataclass\n",
    "from typing import List\n",
    "from enum import Enum, auto\n",
    "\n",
    "class ModeQ(Enum):\n",
    "    Train = auto()\n",
    "    Test = auto()\n",
    "\n",
    "@dataclass()\n",
    "class SentencePuzzle:\n",
    "    id: str\n",
    "    question: str\n",
    "    answer: str\n",
    "    label: int\n",
    "    choices: List[str]\n",
    "    choice_order: List[int]\n",
    "\n",
    "    def __post_init__(self):\n",
    "        if self.answer is None:\n",
    "            self.mode = ModeQ.Test\n",
    "        else:\n",
    "            self.mode = ModeQ.Train\n",
    "\n",
    "\n",
    "def load_sentence_puzzles(file_path: str) -> list[SentencePuzzle]:\n",
    "    print(f\"Loading sentence puzzles from {file_path}\")\n",
    "    sps = np.load(file_path, allow_pickle=True)\n",
    "    puzzles = [\n",
    "        SentencePuzzle(\n",
    "            id=sp['id'],\n",
    "            question=sp['question'],\n",
    "            answer=sp.get('answer', None),\n",
    "            label=sp.get('label', None),\n",
    "            choices=sp['choice_list'],\n",
    "            choice_order=sp.get('choice_order', None)\n",
    "        )\n",
    "        for sp in sps]\n",
    "    print(f\"Loaded {len(puzzles)} sentence puzzles\")\n",
    "    return puzzles\n"
   ],
   "metadata": {
    "collapsed": false,
    "ExecuteTime": {
     "end_time": "2023-11-02T13:06:42.830018Z",
     "start_time": "2023-11-02T13:06:42.828015Z"
    }
   }
  },
  {
   "cell_type": "markdown",
   "source": [
    "# Prompt Setup"
   ],
   "metadata": {
    "id": "ZOn1CfT8BFQ4"
   }
  },
  {
   "cell_type": "code",
   "source": [
    "question = \"A man shaves everyday, yet keeps his beard long.\"\n",
    "answer = \"He wants to maintain his appearance.\"\n",
    "\n",
    "base_prompt = \"\"\"\n",
    "Your task is to generate a descriptive explanation from a question to an answer option. \\\n",
    "In the following, a question and an option as the answer to the question is provided. \\\n",
    "The answer might be or not be a correct answer.\n",
    "\n",
    "Write a descriptive explanation in at most one paragraph and 200 words to show that path from question to the answer.\n",
    "\n",
    "Question: ```{question}```\n",
    "Answer Option: ```{option}```\n",
    "\"\"\"\n",
    "\n",
    "generate_prompt_baseline = lambda que, opt: base_prompt.format(question=que, option=opt)\n",
    "\n",
    "# response = get_completion(prompt)\n",
    "# print(generate_prompt_baseline(question,answer))\n"
   ],
   "metadata": {
    "colab": {
     "base_uri": "https://localhost:8080/"
    },
    "id": "DQENRkzmA0An",
    "outputId": "3a6fdec3-0f68-48a9-a233-5e9d97d4e5ae",
    "ExecuteTime": {
     "end_time": "2023-11-02T13:06:42.831416Z",
     "start_time": "2023-11-02T13:06:42.830197Z"
    }
   },
   "execution_count": 6,
   "outputs": []
  },
  {
   "cell_type": "markdown",
   "source": [
    "# Experiment"
   ],
   "metadata": {
    "collapsed": false
   }
  },
  {
   "cell_type": "markdown",
   "source": [
    "## Config"
   ],
   "metadata": {
    "collapsed": false
   }
  },
  {
   "cell_type": "code",
   "execution_count": 7,
   "outputs": [],
   "source": [
    "Demo = False\n",
    "PromptMode = \"baseline\"\n",
    "Phase = [\"train\", \"test\"][1]\n",
    "GPT_MODEL = \"gpt-4\"\n",
    "\n",
    "QuestionsPath = {\n",
    "    \"train\": \"../datasets/data/SP-train.npy\",\n",
    "    \"test\": \"../datasets/data/SP-val-nolabel.npy\"\n",
    "}[Phase]\n",
    "\n",
    "DumpDir = \"SentencePuzzleKD\"\n",
    "DumpPath = os.path.join(DumpDir, \"KD_\" + Phase + \"_\" + GPT_MODEL.replace(\".\", \"\") + \".csv\")"
   ],
   "metadata": {
    "collapsed": false,
    "ExecuteTime": {
     "end_time": "2023-11-02T13:06:42.833917Z",
     "start_time": "2023-11-02T13:06:42.832530Z"
    }
   }
  },
  {
   "cell_type": "markdown",
   "source": [
    "## SetUP"
   ],
   "metadata": {
    "collapsed": false
   }
  },
  {
   "cell_type": "code",
   "source": [
    "print(\"Initiating experiments pipeline...\")\n",
    "\n",
    "if Demo:\n",
    "    chat_bot = CopyCatBot()\n",
    "else:\n",
    "    chat_bot = GPTBot(model=GPT_MODEL)\n",
    "\n",
    "if PromptMode == \"baseline\":\n",
    "    prompt_generator = generate_prompt_baseline\n",
    "else:\n",
    "    print(f\"Unknown prompt generating method: {PromptMode}\")\n",
    "    raise Exception()\n",
    "\n",
    "if not os.path.exists(DumpDir):\n",
    "    os.mkdir(DumpDir)\n",
    "    print(\"DumpDir created\")\n",
    "\n",
    "puzzles = load_sentence_puzzles(QuestionsPath)"
   ],
   "metadata": {
    "id": "_809duiZ_6qU",
    "ExecuteTime": {
     "end_time": "2023-11-02T13:06:42.838946Z",
     "start_time": "2023-11-02T13:06:42.834675Z"
    }
   },
   "execution_count": 8,
   "outputs": [
    {
     "name": "stdout",
     "output_type": "stream",
     "text": [
      "Initiating experiments pipeline...\n",
      "Initiating GPT chat bot...\n",
      "GPT chat bot Initiated!\n",
      "Loading sentence puzzles from ../datasets/data/SP-val-nolabel.npy\n",
      "Loaded 60 sentence puzzles\n"
     ]
    }
   ]
  },
  {
   "cell_type": "code",
   "execution_count": 9,
   "outputs": [],
   "source": [
    "kd_report = {\n",
    "    \"id\": list(),\n",
    "    \"question\": list(),\n",
    "    \"option_1\": list(),\n",
    "    \"hypothesis_1\": list(),\n",
    "    \"option_2\": list(),\n",
    "    \"hypothesis_2\": list(),\n",
    "    \"option_3\": list(),\n",
    "    \"hypothesis_3\": list(),\n",
    "    \"option_4\": list(),\n",
    "}\n",
    "\n",
    "if Phase == \"train\":\n",
    "    kd_report[\"answer\"] = list()\n",
    "    kd_report[\"label\"] = list()\n",
    "    print(\"Train mode!\")\n",
    "\n",
    "\n",
    "if os.path.exists(DumpPath):\n",
    "    df = pd.read_csv(DumpPath)\n",
    "    for col in kd_report.keys():\n",
    "        kd_report[col] = df[col].tolist()\n",
    "\n",
    "    print(f\"Records recovered from {DumpPath}\")\n",
    "    print(f\".::{len(kd_report['id'])} records::.\")"
   ],
   "metadata": {
    "collapsed": false,
    "ExecuteTime": {
     "end_time": "2023-11-02T13:06:42.840906Z",
     "start_time": "2023-11-02T13:06:42.839512Z"
    }
   }
  },
  {
   "cell_type": "markdown",
   "source": [
    "## Execute experiment"
   ],
   "metadata": {
    "collapsed": false
   }
  },
  {
   "cell_type": "code",
   "execution_count": 10,
   "outputs": [
    {
     "data": {
      "text/plain": "  0%|          | 0/60 [00:00<?, ?it/s]",
      "application/vnd.jupyter.widget-view+json": {
       "version_major": 2,
       "version_minor": 0,
       "model_id": "bc3e07b2f52547c4b6fad052e8f3a4a4"
      }
     },
     "metadata": {},
     "output_type": "display_data"
    },
    {
     "name": "stdout",
     "output_type": "stream",
     "text": [
      "Dumped 60 records to SentencePuzzleKD/KD_test_gpt-4.csv\n"
     ]
    }
   ],
   "source": [
    "start = len(kd_report['id'])\n",
    "length = len(puzzles)\n",
    "idx = start-1\n",
    "\n",
    "for idx in tqdm(range(start, length)):\n",
    "    puzzle = puzzles[idx]\n",
    "\n",
    "    kd_report['id'].append(puzzle.id)\n",
    "    kd_report['question'].append(puzzle.question)\n",
    "\n",
    "    for i in [1, 2, 3]:\n",
    "        put = f\"option_{i}\"\n",
    "        het = f\"hypothesis_{i}\"\n",
    "\n",
    "        option = puzzle.choices[i - 1]\n",
    "        prompt = prompt_generator(que=puzzle.question, opt=option)\n",
    "        hypothesis = chat_bot.get_completion(prompt)\n",
    "        kd_report[put].append(option)\n",
    "        kd_report[het].append(hypothesis)\n",
    "\n",
    "    put = \"option_4\"\n",
    "    option = puzzle.choices[3]\n",
    "    kd_report[put].append(option)\n",
    "\n",
    "    if Phase == \"train\":\n",
    "        kd_report['answer'].append(puzzle.answer)\n",
    "        kd_report[\"label\"].append(puzzle.label+1)\n",
    "\n",
    "    df = pd.DataFrame(kd_report)\n",
    "    df.to_csv(DumpPath, index=False)\n",
    "\n",
    "print(f\"Dumped {idx+1} records to {DumpPath}\")"
   ],
   "metadata": {
    "collapsed": false,
    "ExecuteTime": {
     "end_time": "2023-11-02T14:03:01.264768Z",
     "start_time": "2023-11-02T13:06:42.842640Z"
    }
   }
  }
 ]
}
